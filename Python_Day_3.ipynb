{
 "cells": [
  {
   "cell_type": "markdown",
   "id": "2f238f42",
   "metadata": {},
   "source": [
    "### Project 1 - Odd or Even Number"
   ]
  },
  {
   "cell_type": "markdown",
   "id": "455e49a4",
   "metadata": {},
   "source": [
    "Write a program that works out whether if a given number is an odd or even number."
   ]
  },
  {
   "cell_type": "code",
   "execution_count": 5,
   "id": "88a1bb07",
   "metadata": {},
   "outputs": [
    {
     "name": "stdout",
     "output_type": "stream",
     "text": [
      "Which number do yo want to check? 225.5\n",
      "This is an Odd Number\n"
     ]
    }
   ],
   "source": [
    "number = float(input(\"Which number do yo want to check? \"))\n",
    "\n",
    "if number % 2 == 0:\n",
    "    print(\"This is an Even Number\")\n",
    "else:\n",
    "    print(\"This is an Odd Number\")"
   ]
  },
  {
   "cell_type": "markdown",
   "id": "cb79db1f",
   "metadata": {},
   "source": [
    "### Project 2 - BMI Calculator\n",
    "\n",
    "It should tell them the interpretation of their BMI based on the BMI value.\n",
    "\n",
    "* Under 18.5 they are underweight\n",
    "* Over 18.5 but below 25 they have a normal weight\n",
    "* Over 25 but below 30 they are slightly overweight\n",
    "* Over 30 but below 35 they are obese\n",
    "* Above 35 they are clinically obese."
   ]
  },
  {
   "cell_type": "code",
   "execution_count": 20,
   "id": "bee5e217",
   "metadata": {},
   "outputs": [
    {
     "name": "stdout",
     "output_type": "stream",
     "text": [
      "Enter you height in m: 1.7018\n",
      "Enter you height in kg: 74\n",
      "\n",
      "You BMI is : 26\n",
      "You are Slightly Overweight\n"
     ]
    }
   ],
   "source": [
    "message = \"Welcom to our BMI Calculator\"\n",
    "height = float(input(\"Enter you height in m: \"))\n",
    "weight = float(input(\"Enter you height in kg: \"))\n",
    "\n",
    "bmi = weight/height**2\n",
    "\n",
    "print(\"\\nYou BMI is : {:.0f}\".format(bmi))\n",
    "\n",
    "if bmi < 18:\n",
    "    print(\"You are Underweight\")\n",
    "elif bmi < 25:\n",
    "    print(\"You have Normal weight\")\n",
    "elif bmi < 30:\n",
    "    print(\"You are Slightly Overweight\")\n",
    "elif bmi < 35:\n",
    "    print(\"You are Obese\")\n",
    "else:\n",
    "    print(\"You are Clinically Obese\")"
   ]
  },
  {
   "cell_type": "markdown",
   "id": "78e7ba30",
   "metadata": {},
   "source": [
    "### Project 3: Leap Year\n",
    "\n",
    "Leap Year Rules\n",
    "* 1) Exactly divisible by four\n",
    "* 2)  except for years that are exactly divisible by 100, (not leap year) \n",
    "* 3) but these centurial years are leap years if they are exactly divisible by 400."
   ]
  },
  {
   "cell_type": "code",
   "execution_count": 76,
   "id": "a087a22c",
   "metadata": {},
   "outputs": [
    {
     "name": "stdout",
     "output_type": "stream",
     "text": [
      "Which year do you want to check? 2028\n",
      "2028 is Leap Year\n"
     ]
    }
   ],
   "source": [
    "year = int(input(\"Which year do you want to check? \"))\n",
    "\n",
    "if year % 4 == 0 and (year % 100 > 0 or year % 400 == 0):\n",
    "    print(f\"{year} is Leap Year\")\n",
    "else:\n",
    "    print(f\"{year} is not a Leap Year.\")"
   ]
  },
  {
   "cell_type": "markdown",
   "id": "905b85fb",
   "metadata": {},
   "source": [
    "### Project 4: Pizza Order\n",
    "\n",
    "* Small Pizza: $15 $ \n",
    "* Medium Pizza: $20 $\n",
    "* Large Pizza: $25 $\n",
    "\n",
    "\n",
    "* Pepperoni for Small Pizza: +$2 $\n",
    "* Pepperoni for Medium or Large Pizza: +$3 $\n",
    "\n",
    "\n",
    "* Extra cheese for any size pizza: + $1 $"
   ]
  },
  {
   "cell_type": "code",
   "execution_count": 140,
   "id": "8efca89b",
   "metadata": {},
   "outputs": [
    {
     "name": "stdout",
     "output_type": "stream",
     "text": [
      "Welcome to python pizza Deliveries\n",
      "What size pizza do you want? S, M, or L ? k\n",
      "Do you want pepperoni? Y or N ? y\n",
      "Do you want extra cheese? Y or N ? n\n",
      "\n",
      "Wrong input for pizza size. Please select S, M, or L\n"
     ]
    }
   ],
   "source": [
    "message = \"Welcome to python pizza Deliveries\"\n",
    "print(message)\n",
    "\n",
    "size = input(\"What size pizza do you want? S, M, or L ? \").upper()\n",
    "add_pepperoni = input(\"Do you want pepperoni? Y or N ? \").upper()\n",
    "extra_cheese = input(\"Do you want extra cheese? Y or N ? \").upper()\n",
    "\n",
    "bill = 0\n",
    "\n",
    "if size == \"S\":\n",
    "    bill +=15\n",
    "elif size == \"M\":\n",
    "    bill +=20\n",
    "elif size == \"L\":\n",
    "    bill +=25\n",
    "else:\n",
    "    print(\"\\nWrong input for pizza size. Please select S, M, or L\")\n",
    "\n",
    "\n",
    "if add_pepperoni == \"Y\":\n",
    "    if size == \"S\":\n",
    "        bill +=2\n",
    "    elif size == \"M\" or size == \"L\":\n",
    "        bill +=3\n",
    "    else:\n",
    "        bill +=0\n",
    "else:\n",
    "    print(\"Wrong input for pepperoni. Please select Y or N\")\n",
    "\n",
    "\n",
    "if extra_cheese == 'Y':\n",
    "    bill +=1\n",
    "elif extra_cheese == 'N':\n",
    "    bill +=0\n",
    "else:\n",
    "    print(\"Wrong input for extra cheese. Please select Y or N\")\n",
    "    \n",
    "total_bill = \"\\nYour final bill is ${:.2f}\".format(bill)\n",
    "\n",
    "if bill < 15:\n",
    "    pass\n",
    "else:\n",
    "    print(total_bill)"
   ]
  },
  {
   "cell_type": "markdown",
   "id": "949ff457",
   "metadata": {},
   "source": [
    "### Project 5 - Love Calculator\n",
    "\n",
    "Instructions\n",
    "You are going to write a program that tests the compatibility between two people.\n",
    "\n",
    "To work out the love score between two people:\n",
    "\n",
    "Take both people's names and check for the number of times the letters in the word TRUE occurs. Then check for the number of times the letters in the word LOVE occurs. Then combine these numbers to make a 2 digit number.\n",
    "\n",
    "For Love Scores less than 10 or greater than 90, the message should be:\n",
    "\n",
    "\"Your score is **x**, you go together like coke and mentos.\"\n",
    "\n",
    "For Love Scores between 40 and 50, the message should be:\n",
    "\n",
    "\"Your score is **y**, you are alright together.\"\n",
    "\n",
    "Otherwise, the message will just be their score. e.g.:\n",
    "\n",
    "\"Your score is **z**.\"\n",
    "\n",
    "e.g.\n",
    "\n",
    "* name1 = \"ABCCD\"\n",
    "* name2 = \"KLMNO\"\n",
    "\n",
    "\n",
    "* T occurs 0 times\n",
    "* R occurs 1 time\n",
    "* U occurs 2 times\n",
    "* E occurs 2 times\n",
    "\n",
    "\n",
    "Total = 5\n",
    "\n",
    "\n",
    "* L occurs 1 time\n",
    "* O occurs 0 times\n",
    "* V occurs 0 times\n",
    "* E occurs 2 times\n",
    "\n",
    "\n",
    "Total = 3\n",
    "\n",
    "Love Score = 53\n",
    "\n",
    "Print: \"Your score is 53.\"\n",
    "\n",
    "Example Input 1\n",
    "\n",
    "* name1 = \"Kanye West\"\n",
    "* name2 = \"Kim Kardashian\""
   ]
  },
  {
   "cell_type": "code",
   "execution_count": 236,
   "id": "93e3a839",
   "metadata": {},
   "outputs": [
    {
     "name": "stdout",
     "output_type": "stream",
     "text": [
      "Welcome to the Love Calculator\n",
      "What is your partner's name? Jolly\n",
      "What is your name? Sam\n",
      "Your score is 3, you go together like coke and mentos.\n"
     ]
    }
   ],
   "source": [
    "print(\"Welcome to the Love Calculator\")\n",
    "name_1 = input(\"What is your partner's name? \").lower()\n",
    "name_2 = input(\"What is your name? \").lower()\n",
    "\n",
    "both_names = name_1 + name_2\n",
    "\n",
    "num_1 = 0\n",
    "num_2 = 0\n",
    "\n",
    "for true in range (0, len(both_names)):\n",
    "    p_total = \"true\".count(both_names[true])\n",
    "    num_1 +=p_total\n",
    "    \n",
    "for love in range (0, len(both_names)):\n",
    "    p_total_2 = \"love\".count(both_names[love])\n",
    "    num_2 +=p_total_2\n",
    "\n",
    "score = int(str(num_1)+ str(num_2)) \n",
    "\n",
    "if score >= 47 and score <= 50:\n",
    "    print(f\"Your score is {score}, you are alright together.\")\n",
    "elif score <10 or score > 90:\n",
    "    print(f\"Your score is {score}, you go together like coke and mentos.\")\n",
    "else:\n",
    "    print(f\"Your score is {score}.\")"
   ]
  },
  {
   "cell_type": "markdown",
   "id": "3aff9a1c",
   "metadata": {},
   "source": [
    "### Day 3 - Final Project"
   ]
  },
  {
   "cell_type": "code",
   "execution_count": 234,
   "id": "17d4c51e",
   "metadata": {},
   "outputs": [
    {
     "name": "stdout",
     "output_type": "stream",
     "text": [
      "Welcome to Treasure Island.\n",
      "Your mission is to find the treasure.\n",
      "You're at a cross road. Where do you want to go? Type \"left\" or \"right\" \n",
      "left\n",
      "You've come to a lake. There is an island in the middle of the lake. Type \"wait\" to wait for a boat. Type \"swim\" to swim across. \n",
      "swim\n",
      "You get attacked by an angry trout. Game Over.\n"
     ]
    }
   ],
   "source": [
    "print(\"Welcome to Treasure Island.\")\n",
    "print(\"Your mission is to find the treasure.\")\n",
    "choice1 = input('You\\'re at a cross road. Where do you want to go? Type \"left\" or \"right\" \\n').lower()\n",
    "if choice1 == \"left\":\n",
    "  choice2 = input('You\\'ve come to a lake. There is an island in the middle of the lake. Type \"wait\" to wait for a boat. Type \"swim\" to swim across. \\n').lower()\n",
    "  if choice2 == \"wait\":\n",
    "    choice3 = input(\"You arrive at the island unharmed. There is a house with 3 doors. One red, one yellow and one blue. Which colour do you choose? \\n\").lower()\n",
    "    if choice3 == \"red\":\n",
    "      print(\"It's a room full of fire. Game Over.\")\n",
    "    elif choice3 == \"yellow\":\n",
    "      print(\"You found the treasure! You Win!\")\n",
    "    elif choice3 == \"blue\":\n",
    "      print(\"You enter a room of beasts. Game Over.\")\n",
    "    else:\n",
    "      print(\"You chose a door that doesn't exist. Game Over.\")\n",
    "  else:\n",
    "    print(\"You get attacked by an angry trout. Game Over.\")\n",
    "else:\n",
    "  print(\"You fell into a hole. Game Over.\")"
   ]
  },
  {
   "cell_type": "code",
   "execution_count": null,
   "id": "8ed55472",
   "metadata": {},
   "outputs": [],
   "source": []
  }
 ],
 "metadata": {
  "kernelspec": {
   "display_name": "Python 3",
   "language": "python",
   "name": "python3"
  },
  "language_info": {
   "codemirror_mode": {
    "name": "ipython",
    "version": 3
   },
   "file_extension": ".py",
   "mimetype": "text/x-python",
   "name": "python",
   "nbconvert_exporter": "python",
   "pygments_lexer": "ipython3",
   "version": "3.8.8"
  }
 },
 "nbformat": 4,
 "nbformat_minor": 5
}
