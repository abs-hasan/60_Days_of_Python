{
 "cells": [
  {
   "cell_type": "markdown",
   "id": "3ae65374",
   "metadata": {},
   "source": [
    "###### 2022 Complete Python Bootcamp From Zero to Hero in Python"
   ]
  },
  {
   "cell_type": "markdown",
   "id": "48cf5fb5",
   "metadata": {},
   "source": [
    "- Allow to creat instance of actual object. # parameter\n",
    "- Parameters"
   ]
  },
  {
   "cell_type": "code",
   "execution_count": null,
   "id": "9781eb39",
   "metadata": {},
   "outputs": [],
   "source": []
  },
  {
   "cell_type": "markdown",
   "id": "9ed0aa74",
   "metadata": {},
   "source": [
    "###### 2022 Complete Python Bootcamp From Zero to Hero in Python\n",
    "\n",
    "https://www.learnpython.org/"
   ]
  },
  {
   "cell_type": "code",
   "execution_count": 3,
   "id": "2e5559d3",
   "metadata": {},
   "outputs": [],
   "source": [
    "#Normal Class\n",
    "class MyClass:\n",
    "    x = 5"
   ]
  },
  {
   "cell_type": "code",
   "execution_count": 2,
   "id": "fc56ed92",
   "metadata": {},
   "outputs": [
    {
     "data": {
      "text/plain": [
       "5"
      ]
     },
     "execution_count": 2,
     "metadata": {},
     "output_type": "execute_result"
    }
   ],
   "source": [
    "MyClass.x"
   ]
  },
  {
   "cell_type": "code",
   "execution_count": 23,
   "id": "c64fa57b",
   "metadata": {},
   "outputs": [],
   "source": [
    "# Here init() function used to assign valeus to name and age properties \n",
    "# The __init__() function is called automatically every time the class is being used to create a new object.\n",
    "\n",
    "class person:\n",
    "    def __init__ (self, name, age):\n",
    "        self.n = name\n",
    "        self.a = age\n",
    "\n",
    "#details person(\"ABS\",17)"
   ]
  },
  {
   "cell_type": "code",
   "execution_count": 24,
   "id": "efaf59fb",
   "metadata": {},
   "outputs": [
    {
     "data": {
      "text/plain": [
       "<__main__.person at 0x1f29821feb0>"
      ]
     },
     "execution_count": 24,
     "metadata": {},
     "output_type": "execute_result"
    }
   ],
   "source": [
    "person(\"ABS\",17)"
   ]
  },
  {
   "cell_type": "code",
   "execution_count": 25,
   "id": "34b5e29f",
   "metadata": {},
   "outputs": [
    {
     "name": "stdout",
     "output_type": "stream",
     "text": [
      "ABS\n",
      "17\n"
     ]
    }
   ],
   "source": [
    "details = person(\"ABS\",17)\n",
    "print(details.n)\n",
    "print(details.a)"
   ]
  },
  {
   "cell_type": "markdown",
   "id": "998d391d",
   "metadata": {},
   "source": [
    "#### Object Methods\n",
    "Objects can also contain methods. Methods in objects are functions that belong to the object.\n",
    "\n",
    "Let us create a method in the Person class:"
   ]
  },
  {
   "cell_type": "code",
   "execution_count": 31,
   "id": "9c7303b6",
   "metadata": {},
   "outputs": [],
   "source": [
    "# The self parameter is a reference to the current instance of the class, \n",
    "# and is used to access variables that belong to the class.\n",
    "\n",
    "# Insert a function that prints a greeting, and execute it on the p1 object:\n",
    "\n",
    "\n",
    "class person:\n",
    "    def __init__(self, name, age):\n",
    "        self.n = name\n",
    "        self.a = age\n",
    "        \n",
    "    def my_func(self):\n",
    "        print(\"Hello my name is \" + self.n)"
   ]
  },
  {
   "cell_type": "code",
   "execution_count": 32,
   "id": "e24dfd24",
   "metadata": {},
   "outputs": [],
   "source": [
    "details = person(\"ABS\",17)"
   ]
  },
  {
   "cell_type": "code",
   "execution_count": 33,
   "id": "33dd6b97",
   "metadata": {},
   "outputs": [
    {
     "name": "stdout",
     "output_type": "stream",
     "text": [
      "ABS\n",
      "17\n",
      "Hello my name is ABS\n"
     ]
    }
   ],
   "source": [
    "print(details.n)\n",
    "print(details.a)\n",
    "details.my_func()"
   ]
  },
  {
   "cell_type": "markdown",
   "id": "67e52357",
   "metadata": {},
   "source": [
    "#### The self Parameter\n",
    "The self parameter is a reference to the current instance of the class, and is used to access variables that belongs to the class.\n",
    "\n",
    "It does not have to be named self , you can call it whatever you like, but it has to be the first parameter of any function in the class:"
   ]
  },
  {
   "cell_type": "code",
   "execution_count": 34,
   "id": "76851f19",
   "metadata": {},
   "outputs": [],
   "source": [
    "class person2:\n",
    "    def __init__(self_2, name, age):\n",
    "        self_2.name = name\n",
    "        self_2.age = age\n",
    "    \n",
    "    def myfunc(abc):\n",
    "        print(\"Hello my name is\" + abc.name)"
   ]
  },
  {
   "cell_type": "code",
   "execution_count": 37,
   "id": "1cdcf63c",
   "metadata": {},
   "outputs": [],
   "source": [
    "p1 = person2(\"John\", 36) # Creating a P1 object from person2 class"
   ]
  },
  {
   "cell_type": "code",
   "execution_count": 36,
   "id": "8711e2b6",
   "metadata": {},
   "outputs": [
    {
     "name": "stdout",
     "output_type": "stream",
     "text": [
      "Hello my name isJohn\n"
     ]
    }
   ],
   "source": [
    "p1.myfunc()"
   ]
  },
  {
   "cell_type": "code",
   "execution_count": 41,
   "id": "9c20c081",
   "metadata": {},
   "outputs": [
    {
     "name": "stdout",
     "output_type": "stream",
     "text": [
      "ABS\n"
     ]
    }
   ],
   "source": [
    "print(p1.name)"
   ]
  },
  {
   "cell_type": "code",
   "execution_count": 39,
   "id": "04e2f883",
   "metadata": {},
   "outputs": [
    {
     "name": "stdout",
     "output_type": "stream",
     "text": [
      "36\n"
     ]
    }
   ],
   "source": [
    "print(p1.age)"
   ]
  },
  {
   "cell_type": "markdown",
   "id": "c5d332f0",
   "metadata": {},
   "source": [
    "##### Change the value of a object or data field"
   ]
  },
  {
   "cell_type": "code",
   "execution_count": 42,
   "id": "a3b54d73",
   "metadata": {},
   "outputs": [],
   "source": [
    "p1.name = \"ABS\""
   ]
  },
  {
   "cell_type": "markdown",
   "id": "b7f1a979",
   "metadata": {},
   "source": [
    "#### Hiding data fields\n",
    "\n",
    "To hide data fields you need to define private data fields. In python you can create private data field using two leading underscores. You can also define a private method using two leading (__) underscores."
   ]
  },
  {
   "cell_type": "code",
   "execution_count": 69,
   "id": "617de6c9",
   "metadata": {},
   "outputs": [],
   "source": [
    "class banknote:\n",
    "    \n",
    "    # Constractor or initilizer\n",
    "    \n",
    "    def __init__(self, name, money):\n",
    "        self.name = name\n",
    "        self.__balance = money # Balance is private now, so it is accessible only inside the class now\n",
    "    \n",
    "    def deposit(self, money):\n",
    "        self.__balance += money\n",
    "    \n",
    "    def withdraw(self, money):\n",
    "        if self.__balance > money:\n",
    "            self.__balance -=money\n",
    "            return money\n",
    "        else:\n",
    "            return \"Insufficient funds\"\n",
    "    def check_balance(self):\n",
    "        return self.__balance"
   ]
  },
  {
   "cell_type": "code",
   "execution_count": 70,
   "id": "1922cbab",
   "metadata": {},
   "outputs": [],
   "source": [
    "# Creating a object of bank note class\n",
    "b = banknote(\"Taka\", 100)"
   ]
  },
  {
   "cell_type": "code",
   "execution_count": 71,
   "id": "a2dff68e",
   "metadata": {},
   "outputs": [
    {
     "name": "stdout",
     "output_type": "stream",
     "text": [
      "Taka\n"
     ]
    }
   ],
   "source": [
    "print(b.name)"
   ]
  },
  {
   "cell_type": "code",
   "execution_count": 72,
   "id": "010a3dd0",
   "metadata": {},
   "outputs": [
    {
     "ename": "AttributeError",
     "evalue": "'banknote' object has no attribute 'balance'",
     "output_type": "error",
     "traceback": [
      "\u001b[1;31m---------------------------------------------------------------------------\u001b[0m",
      "\u001b[1;31mAttributeError\u001b[0m                            Traceback (most recent call last)",
      "\u001b[1;32m~\\AppData\\Local\\Temp/ipykernel_17640/2639110086.py\u001b[0m in \u001b[0;36m<module>\u001b[1;34m\u001b[0m\n\u001b[1;32m----> 1\u001b[1;33m \u001b[0mprint\u001b[0m\u001b[1;33m(\u001b[0m\u001b[0mb\u001b[0m\u001b[1;33m.\u001b[0m\u001b[0mbalance\u001b[0m\u001b[1;33m)\u001b[0m\u001b[1;33m\u001b[0m\u001b[1;33m\u001b[0m\u001b[0m\n\u001b[0m",
      "\u001b[1;31mAttributeError\u001b[0m: 'banknote' object has no attribute 'balance'"
     ]
    }
   ],
   "source": [
    "print(b.balance)"
   ]
  },
  {
   "cell_type": "code",
   "execution_count": 73,
   "id": "90369fde",
   "metadata": {},
   "outputs": [],
   "source": [
    "b.deposit(1000)"
   ]
  },
  {
   "cell_type": "code",
   "execution_count": 74,
   "id": "e15f5bc3",
   "metadata": {},
   "outputs": [
    {
     "data": {
      "text/plain": [
       "100"
      ]
     },
     "execution_count": 74,
     "metadata": {},
     "output_type": "execute_result"
    }
   ],
   "source": [
    "b.withdraw(100)"
   ]
  },
  {
   "cell_type": "code",
   "execution_count": 75,
   "id": "2c308dc2",
   "metadata": {},
   "outputs": [
    {
     "data": {
      "text/plain": [
       "1000"
      ]
     },
     "execution_count": 75,
     "metadata": {},
     "output_type": "execute_result"
    }
   ],
   "source": [
    "b.check_balance()"
   ]
  },
  {
   "cell_type": "code",
   "execution_count": 76,
   "id": "1ed77fbe",
   "metadata": {},
   "outputs": [
    {
     "data": {
      "text/plain": [
       "'Insufficient funds'"
      ]
     },
     "execution_count": 76,
     "metadata": {},
     "output_type": "execute_result"
    }
   ],
   "source": [
    "b.withdraw(1001)"
   ]
  },
  {
   "cell_type": "markdown",
   "id": "fbd38a5a",
   "metadata": {},
   "source": [
    "#### Python Operator Overloading\n",
    "\n",
    "You have already seen you can use + operator for adding numbers and at the same time to concatenate strings. It is possible because + operator is overloaded by both int class and str class. The operators are actually methods defined in respective classes. Defining methods for operators is known as operator overloading. For e.g: To use + operator with custom objects  you need to define a method called ____ add ____."
   ]
  },
  {
   "cell_type": "code",
   "execution_count": 100,
   "id": "3dbcd0fb",
   "metadata": {},
   "outputs": [],
   "source": [
    "import math\n",
    "\n",
    "class circle:\n",
    "    \n",
    "    def __init__(self, radius):\n",
    "        self.__radius =  radius\n",
    "        \n",
    "    def setRadius(self, radius):\n",
    "        self.__radius =  radius\n",
    "    \n",
    "    def getRadius(self):\n",
    "        return self.__radius\n",
    "    \n",
    "    def area(Self):\n",
    "        return math.pi * self.__radius **2\n",
    "    \n",
    "    def __add__(self, another_circle):\n",
    "        return  circle(self.__radius + another_circle.__radius)\n",
    "    \n",
    "    def __gt__(self, another_circle):\n",
    "        return circle(self.__radius > another_circle.__radius)\n",
    "\n",
    "    def __lt__(self, another_circle):\n",
    "        return circle(self.__radius < another_circle.__radius)\n",
    "\n",
    "    def __str__(self):\n",
    "        return \"Circle with radius \" + str(self.__radius)"
   ]
  },
  {
   "cell_type": "code",
   "execution_count": 101,
   "id": "5c6e06f8",
   "metadata": {},
   "outputs": [
    {
     "name": "stdout",
     "output_type": "stream",
     "text": [
      "4\n"
     ]
    }
   ],
   "source": [
    "c1 = circle(4)\n",
    "print(c1.getRadius())"
   ]
  },
  {
   "cell_type": "code",
   "execution_count": 102,
   "id": "0173b082",
   "metadata": {},
   "outputs": [
    {
     "name": "stdout",
     "output_type": "stream",
     "text": [
      "5\n"
     ]
    }
   ],
   "source": [
    "c2 = circle(5)\n",
    "print(c2.getRadius())"
   ]
  },
  {
   "cell_type": "code",
   "execution_count": 103,
   "id": "408e42ab",
   "metadata": {},
   "outputs": [
    {
     "name": "stdout",
     "output_type": "stream",
     "text": [
      "9\n"
     ]
    }
   ],
   "source": [
    "c3 = c1 + c2\n",
    "print(c3.getRadius())"
   ]
  },
  {
   "cell_type": "code",
   "execution_count": 107,
   "id": "13faa1ba",
   "metadata": {},
   "outputs": [
    {
     "name": "stdout",
     "output_type": "stream",
     "text": [
      "Circle with radius False\n"
     ]
    }
   ],
   "source": [
    "print( c1 > c2) # Became possible because we have added __gt__ method"
   ]
  },
  {
   "cell_type": "code",
   "execution_count": 108,
   "id": "d294e1d7",
   "metadata": {},
   "outputs": [
    {
     "name": "stdout",
     "output_type": "stream",
     "text": [
      "Circle with radius True\n"
     ]
    }
   ],
   "source": [
    "print( c1 < c2) # Became possible because we have added __lt__ method"
   ]
  },
  {
   "cell_type": "code",
   "execution_count": 106,
   "id": "8f086392",
   "metadata": {},
   "outputs": [
    {
     "name": "stdout",
     "output_type": "stream",
     "text": [
      "Circle with radius 9\n"
     ]
    }
   ],
   "source": [
    "print(c3) # Became possible because we have added __str__ method"
   ]
  },
  {
   "cell_type": "markdown",
   "id": "6ef9e86c",
   "metadata": {},
   "source": [
    "Operator\tFunction\t  Method Description\n",
    "- +\t __add__(self, other)\t Addition\n",
    "- *\t __mul__(self, other)\t Multiplication\n",
    "- -\t__sub__(self, other)\t Subtraction\n",
    "- %\t__mod__(self, other)\t Remainder\n",
    "- /\t__truediv__(self, other)\t Division\n",
    "- <\t__lt__(self, other)\t Less than\n",
    "- <=\t__le__(self, other) , Less than or equal to\t\n",
    "- == \t __eq__(self, other) , Equal to\t\n",
    "- != \t __ne__(self, other) , Not equal to\t"
   ]
  },
  {
   "cell_type": "raw",
   "id": "021c37c7",
   "metadata": {},
   "source": [
    ">__gt__(self, other)  , Greater than\t\n",
    "\n",
    "> =,  __ge__(self, other) , Greater than or equal to [index] , \n",
    "__ getitem__(self, index) , Index operator in , __contains__(self, value) ,\n",
    "- Check membership len , __len__(self) ,\n",
    "- The number of elements str , __str__(self) ,  The string representation </pre>"
   ]
  },
  {
   "cell_type": "markdown",
   "id": "c0554536",
   "metadata": {},
   "source": [
    "### Python inheritance and polymorphism\n",
    "\n",
    "Inheritance allows programmer to create a general class first then later extend it to more specialized class. It also allows programmer to write better code.\n",
    "\n",
    "Using inheritance you can inherit all access data fields and methods, plus you can add your own methods and fields, thus inheritance provide a way to organize code, rather than rewriting it from scratch.\n",
    "\n",
    "In object-oriented terminology when class X extend class Y, then Y is called super class or base class and X is called subclass or derived class. One more point to note that only data fields and method which are not private are accessible by child classes, private data fields and methods are accessible only inside the class.\n",
    "\n",
    "Syntax to create a subclass is:"
   ]
  },
  {
   "cell_type": "code",
   "execution_count": null,
   "id": "c569a04b",
   "metadata": {},
   "outputs": [],
   "source": [
    "class SubClass(SuperClass):\n",
    "  # data fields\n",
    "  # instance methods"
   ]
  },
  {
   "cell_type": "code",
   "execution_count": 46,
   "id": "b542eb1c",
   "metadata": {},
   "outputs": [],
   "source": [
    "class Vehicle:\n",
    "    \n",
    "    def __init__(self, name, color):\n",
    "        self.__name = name    #name is private to vehicle class\n",
    "        self.__color = color\n",
    "        \n",
    "    def getColor(self):\n",
    "        return self.__color   # accessible to only car class\n",
    "    \n",
    "    def setColor(self, color):\n",
    "        self.__color = color   #set class is accesible outside of car class\n",
    "        \n",
    "    def getName(self):\n",
    "        return self.__name   # accessible only to vehicle class\n",
    "    \n",
    "class Car(Vehicle):\n",
    "    def __init__(self, name, color, model):\n",
    "        super().__init__(name, color)\n",
    "        self.__model =  model\n",
    "    \n",
    "    def __str__(self):\n",
    "        return self.getName() + \" \" + self.__model + \" in \" + self.getColor() + \" color\"\n"
   ]
  },
  {
   "cell_type": "code",
   "execution_count": 47,
   "id": "3e94db59",
   "metadata": {},
   "outputs": [],
   "source": [
    "c = Car(\"Ford Mustang\", \"red\", \"GT350\")"
   ]
  },
  {
   "cell_type": "code",
   "execution_count": 48,
   "id": "9b14c461",
   "metadata": {},
   "outputs": [
    {
     "name": "stdout",
     "output_type": "stream",
     "text": [
      "Ford Mustang GT350 in red color\n"
     ]
    }
   ],
   "source": [
    "print(c)"
   ]
  },
  {
   "cell_type": "code",
   "execution_count": 49,
   "id": "180987c4",
   "metadata": {},
   "outputs": [
    {
     "data": {
      "text/plain": [
       "'Ford Mustang'"
      ]
     },
     "execution_count": 49,
     "metadata": {},
     "output_type": "execute_result"
    }
   ],
   "source": [
    "c.getName()"
   ]
  },
  {
   "cell_type": "code",
   "execution_count": 50,
   "id": "84510f3a",
   "metadata": {},
   "outputs": [
    {
     "data": {
      "text/plain": [
       "'red'"
      ]
     },
     "execution_count": 50,
     "metadata": {},
     "output_type": "execute_result"
    }
   ],
   "source": [
    "c.getColor()"
   ]
  },
  {
   "cell_type": "code",
   "execution_count": null,
   "id": "6b0f3f72",
   "metadata": {},
   "outputs": [],
   "source": [
    "c.get"
   ]
  },
  {
   "cell_type": "markdown",
   "id": "a78f7195",
   "metadata": {},
   "source": [
    "#### Multiple inheritance "
   ]
  },
  {
   "cell_type": "code",
   "execution_count": 51,
   "id": "4083ef90",
   "metadata": {},
   "outputs": [
    {
     "name": "stdout",
     "output_type": "stream",
     "text": [
      "method_super1 method called\n",
      "method_super2 method called\n"
     ]
    }
   ],
   "source": [
    "class MySuperClass1():\n",
    "\n",
    "    def method_super1(self):\n",
    "        print(\"method_super1 method called\")\n",
    "\n",
    "class MySuperClass2():\n",
    "\n",
    "    def method_super2(self):\n",
    "        print(\"method_super2 method called\")\n",
    "\n",
    "class ChildClass(MySuperClass1, MySuperClass2):\n",
    "\n",
    "    def child_method(self):\n",
    "        print(\"child method\")\n",
    "\n",
    "c = ChildClass()\n",
    "c.method_super1()\n",
    "c.method_super2()"
   ]
  },
  {
   "cell_type": "code",
   "execution_count": null,
   "id": "db890b22",
   "metadata": {},
   "outputs": [],
   "source": []
  },
  {
   "cell_type": "code",
   "execution_count": null,
   "id": "4e5a3fb0",
   "metadata": {},
   "outputs": [],
   "source": []
  },
  {
   "cell_type": "code",
   "execution_count": null,
   "id": "3dd95deb",
   "metadata": {},
   "outputs": [],
   "source": []
  },
  {
   "cell_type": "code",
   "execution_count": null,
   "id": "817c626b",
   "metadata": {},
   "outputs": [],
   "source": []
  },
  {
   "cell_type": "code",
   "execution_count": null,
   "id": "dfe95448",
   "metadata": {},
   "outputs": [],
   "source": []
  },
  {
   "cell_type": "code",
   "execution_count": null,
   "id": "2c7a0de1",
   "metadata": {},
   "outputs": [],
   "source": []
  },
  {
   "cell_type": "code",
   "execution_count": null,
   "id": "6e304d54",
   "metadata": {},
   "outputs": [],
   "source": []
  },
  {
   "cell_type": "markdown",
   "id": "b3690743",
   "metadata": {},
   "source": [
    "#### Real Python Website"
   ]
  },
  {
   "cell_type": "code",
   "execution_count": 120,
   "id": "f17dac8f",
   "metadata": {},
   "outputs": [],
   "source": [
    "class dog:\n",
    "    \n",
    "    def __init__(self, name , age):\n",
    "        self.name = name\n",
    "        self.age = age\n",
    "        \n",
    "    #instance method\n",
    "    def description(self):\n",
    "        return f\"{self.name} is {self.age} years old\"\n",
    "        \n",
    "    def speak(self, sound): \n",
    "        return f\"{self.name} says {sound}\""
   ]
  },
  {
   "cell_type": "code",
   "execution_count": 121,
   "id": "9380adb5",
   "metadata": {},
   "outputs": [],
   "source": [
    "miles = dog(\"Miles\", 40)"
   ]
  },
  {
   "cell_type": "code",
   "execution_count": 122,
   "id": "91d20733",
   "metadata": {},
   "outputs": [
    {
     "data": {
      "text/plain": [
       "'Miles'"
      ]
     },
     "execution_count": 122,
     "metadata": {},
     "output_type": "execute_result"
    }
   ],
   "source": [
    "miles.name"
   ]
  },
  {
   "cell_type": "code",
   "execution_count": 123,
   "id": "5f1e3baf",
   "metadata": {},
   "outputs": [
    {
     "data": {
      "text/plain": [
       "40"
      ]
     },
     "execution_count": 123,
     "metadata": {},
     "output_type": "execute_result"
    }
   ],
   "source": [
    "miles.age"
   ]
  },
  {
   "cell_type": "code",
   "execution_count": 124,
   "id": "a6499571",
   "metadata": {},
   "outputs": [
    {
     "data": {
      "text/plain": [
       "'Miles is 40 years old'"
      ]
     },
     "execution_count": 124,
     "metadata": {},
     "output_type": "execute_result"
    }
   ],
   "source": [
    "miles.description()"
   ]
  },
  {
   "cell_type": "code",
   "execution_count": 125,
   "id": "6cd298f2",
   "metadata": {},
   "outputs": [
    {
     "data": {
      "text/plain": [
       "'Miles says Woof Woof'"
      ]
     },
     "execution_count": 125,
     "metadata": {},
     "output_type": "execute_result"
    }
   ],
   "source": [
    "miles.speak(\"Woof Woof\")"
   ]
  },
  {
   "cell_type": "code",
   "execution_count": 126,
   "id": "fe2c9d31",
   "metadata": {},
   "outputs": [],
   "source": [
    "class Dog:\n",
    "    \n",
    "    def __init__(self, name , age):\n",
    "        self.name = name\n",
    "        self.age = age\n",
    "        \n",
    "    #instance method\n",
    "    def __str__(self):\n",
    "        return f\"{self.name} is {self.age} years old\"\n",
    "        \n",
    "    def speak(self, sound): \n",
    "        return f\"{self.name} says {sound}\""
   ]
  },
  {
   "cell_type": "code",
   "execution_count": 130,
   "id": "bfd38110",
   "metadata": {},
   "outputs": [],
   "source": [
    "d = Dog(\"Miles\", 40)"
   ]
  },
  {
   "cell_type": "code",
   "execution_count": 132,
   "id": "6ca89721",
   "metadata": {},
   "outputs": [
    {
     "name": "stdout",
     "output_type": "stream",
     "text": [
      "<class '__main__.dog'>\n"
     ]
    }
   ],
   "source": [
    "print(dog)"
   ]
  },
  {
   "cell_type": "code",
   "execution_count": 131,
   "id": "57dccba9",
   "metadata": {},
   "outputs": [
    {
     "name": "stdout",
     "output_type": "stream",
     "text": [
      "Miles is 40 years old\n"
     ]
    }
   ],
   "source": [
    "print(d)"
   ]
  },
  {
   "cell_type": "markdown",
   "id": "428a915c",
   "metadata": {},
   "source": [
    "Methods like ___ init ____() and .____ str ____() are called dunder methods because they begin and end with double underscores. There are many dunder methods that you can use to customize classes in Python. Although too advanced a topic for a beginning Python book, understanding dunder methods is an important part of mastering object-oriented programming in Python."
   ]
  },
  {
   "cell_type": "markdown",
   "id": "902bbc6a",
   "metadata": {},
   "source": [
    "#### Inherit From Other Classes in Python\n",
    "\n",
    "Inheritance is the process by which one class takes on the attributes and methods of another. Newly formed classes are called child classes, and the classes that child classes are derived from are called parent classes.\n",
    "\n",
    "\n",
    "usefule link : https://realpython.com/python3-object-oriented-programming/"
   ]
  },
  {
   "cell_type": "code",
   "execution_count": 4,
   "id": "33f4529b",
   "metadata": {},
   "outputs": [],
   "source": [
    "class Dog:\n",
    "    species = \"Canis familiaris\"\n",
    "\n",
    "    def __init__(self, name, age, breed):\n",
    "        self.name = name\n",
    "        self.age = age\n",
    "        self.breed = breed\n",
    "\n",
    "        \n",
    "    #instance method\n",
    "    def __str__(self):\n",
    "        return f\"{self.name} is {self.age} years old\"\n",
    "        \n",
    "    def speak(self, sound): \n",
    "        return f\"{self.name} says {sound}\""
   ]
  },
  {
   "cell_type": "code",
   "execution_count": 5,
   "id": "45928e71",
   "metadata": {},
   "outputs": [],
   "source": [
    "miles = Dog(\"Miles\", 4, \"Jack Russell Terrier\")\n",
    "buddy = Dog(\"Buddy\", 9, \"Dachshund\")\n",
    "jack = Dog(\"Jack\", 3, \"Bulldog\")\n",
    "jim = Dog(\"Jim\", 5, \"Bulldog\")"
   ]
  },
  {
   "cell_type": "code",
   "execution_count": 6,
   "id": "7dbc6675",
   "metadata": {},
   "outputs": [
    {
     "data": {
      "text/plain": [
       "'Buddy says Yap'"
      ]
     },
     "execution_count": 6,
     "metadata": {},
     "output_type": "execute_result"
    }
   ],
   "source": [
    "buddy.speak(\"Yap\")"
   ]
  },
  {
   "cell_type": "markdown",
   "id": "0b8c0827",
   "metadata": {},
   "source": [
    "#### Parent Classes vs Child Classes\n",
    "Let’s create a child class for each of the three breeds mentioned above: Jack Russell Terrier, Dachshund, and Bulldog.\n",
    "\n",
    "For reference, here’s the full definition of the Dog class:"
   ]
  },
  {
   "cell_type": "code",
   "execution_count": 9,
   "id": "a94a75fd",
   "metadata": {},
   "outputs": [],
   "source": [
    "class Dog:\n",
    "    species = \"Canis familiaris\"\n",
    "\n",
    "    def __init__(self, name, age):\n",
    "        self.name = name\n",
    "        self.age = age\n",
    "\n",
    "        \n",
    "    #instance method\n",
    "    def __str__(self):\n",
    "        return f\"{self.name} is {self.age} years old\"\n",
    "        \n",
    "    def speak(self, sound): \n",
    "        return f\"{self.name} says {sound}\""
   ]
  },
  {
   "cell_type": "markdown",
   "id": "2b33f343",
   "metadata": {},
   "source": [
    "Remember, to create a child class, you create new class with its own name and then put the name of the parent class in parentheses. Add the following to the dog.py file to create three new child classes of the Dog class:"
   ]
  },
  {
   "cell_type": "code",
   "execution_count": 10,
   "id": "5da49129",
   "metadata": {},
   "outputs": [],
   "source": [
    "class JR(Dog):\n",
    "    pass"
   ]
  },
  {
   "cell_type": "code",
   "execution_count": 13,
   "id": "c247460c",
   "metadata": {},
   "outputs": [
    {
     "name": "stdout",
     "output_type": "stream",
     "text": [
      "Miles is 4 years old\n"
     ]
    }
   ],
   "source": [
    "miles = JR(\"Miles\", 4)\n",
    "print(miles)"
   ]
  },
  {
   "cell_type": "code",
   "execution_count": 14,
   "id": "ef01830c",
   "metadata": {},
   "outputs": [
    {
     "data": {
      "text/plain": [
       "'Canis familiaris'"
      ]
     },
     "execution_count": 14,
     "metadata": {},
     "output_type": "execute_result"
    }
   ],
   "source": [
    "miles.species"
   ]
  },
  {
   "cell_type": "code",
   "execution_count": 15,
   "id": "6a2d2f81",
   "metadata": {},
   "outputs": [
    {
     "data": {
      "text/plain": [
       "'Miles says Bow'"
      ]
     },
     "execution_count": 15,
     "metadata": {},
     "output_type": "execute_result"
    }
   ],
   "source": [
    "miles.speak(\"Bow\")"
   ]
  },
  {
   "cell_type": "code",
   "execution_count": 16,
   "id": "61d5ed63",
   "metadata": {},
   "outputs": [
    {
     "data": {
      "text/plain": [
       "__main__.JR"
      ]
     },
     "execution_count": 16,
     "metadata": {},
     "output_type": "execute_result"
    }
   ],
   "source": [
    "type(miles)"
   ]
  },
  {
   "cell_type": "code",
   "execution_count": 19,
   "id": "57411731",
   "metadata": {},
   "outputs": [
    {
     "data": {
      "text/plain": [
       "True"
      ]
     },
     "execution_count": 19,
     "metadata": {},
     "output_type": "execute_result"
    }
   ],
   "source": [
    "isinstance(miles, Dog)"
   ]
  },
  {
   "cell_type": "markdown",
   "id": "c713f727",
   "metadata": {},
   "source": [
    "#### Extend the Functionality of a Parent Class\n",
    "\n",
    "Since different breeds of dogs have slightly different barks, you want to provide a default value for the sound argument of their respective .speak() methods. To do this, you need to override .speak() in the class definition for each breed.\n",
    "\n",
    "To override a method defined on the parent class, you define a method with the same name on the child class. Here’s what that looks like for the JackRussellTerrier class:"
   ]
  },
  {
   "cell_type": "code",
   "execution_count": 20,
   "id": "f38edcd1",
   "metadata": {},
   "outputs": [],
   "source": [
    "class JR(Dog):\n",
    "    def speak(self, sound = \"ARF\"):\n",
    "        return f\"{self.name} says {sound}\""
   ]
  },
  {
   "cell_type": "code",
   "execution_count": 21,
   "id": "1d8be8fd",
   "metadata": {},
   "outputs": [],
   "source": [
    "miles = JR(\"Miles\",4)"
   ]
  },
  {
   "cell_type": "code",
   "execution_count": 22,
   "id": "ccecf062",
   "metadata": {},
   "outputs": [
    {
     "name": "stdout",
     "output_type": "stream",
     "text": [
      "Miles is 4 years old\n"
     ]
    }
   ],
   "source": [
    "print(miles)"
   ]
  },
  {
   "cell_type": "code",
   "execution_count": 24,
   "id": "2f6c6e7f",
   "metadata": {},
   "outputs": [
    {
     "data": {
      "text/plain": [
       "'Miles says Kow'"
      ]
     },
     "execution_count": 24,
     "metadata": {},
     "output_type": "execute_result"
    }
   ],
   "source": [
    "miles.speak(\"Kow\")"
   ]
  },
  {
   "cell_type": "markdown",
   "id": "476aab0b",
   "metadata": {},
   "source": [
    "Sometimes it makes sense to completely override a method from a parent class. But in this instance, we don’t want the JackRussellTerrier class to lose any changes that might be made to the formatting of the output string of Dog.speak().\n",
    "\n",
    "To do this, you still need to define a .speak() method on the child JackRussellTerrier class. But instead of explicitly defining the output string, you need to call the Dog class’s .speak() inside of the child class’s .speak() using the same arguments that you passed to JackRussellTerrier.speak().\n",
    "\n",
    "You can access the parent class from inside a method of a child class by using super():"
   ]
  },
  {
   "cell_type": "code",
   "execution_count": 33,
   "id": "95f84019",
   "metadata": {},
   "outputs": [],
   "source": [
    "class Dog:\n",
    "    species = \"Canis familiaris\"\n",
    "\n",
    "    def __init__(self, name, age):\n",
    "        self.name = name\n",
    "        self.age = age\n",
    "\n",
    "        \n",
    "    #instance method\n",
    "    def __str__(self):\n",
    "        return f\"{self.name} is {self.age} years old\"\n",
    "        \n",
    "    def speak(self, sound): \n",
    "        return f\"{self.name} says {sound}\""
   ]
  },
  {
   "cell_type": "code",
   "execution_count": 35,
   "id": "5fc267e2",
   "metadata": {},
   "outputs": [],
   "source": [
    "class new_dog(Dog):\n",
    "    def speak(self, sound = \"ARF\"):\n",
    "        return super().speak(sound)"
   ]
  },
  {
   "cell_type": "code",
   "execution_count": 38,
   "id": "b598c4d4",
   "metadata": {},
   "outputs": [],
   "source": [
    "niles = new_dog(\"Miles\",4)"
   ]
  },
  {
   "cell_type": "code",
   "execution_count": 39,
   "id": "b28a94d8",
   "metadata": {},
   "outputs": [
    {
     "name": "stdout",
     "output_type": "stream",
     "text": [
      "Miles is 4 years old\n"
     ]
    }
   ],
   "source": [
    "print(miles)"
   ]
  },
  {
   "cell_type": "code",
   "execution_count": 40,
   "id": "23617a14",
   "metadata": {},
   "outputs": [
    {
     "data": {
      "text/plain": [
       "'Miles says ARF'"
      ]
     },
     "execution_count": 40,
     "metadata": {},
     "output_type": "execute_result"
    }
   ],
   "source": [
    "miles.speak()"
   ]
  },
  {
   "cell_type": "code",
   "execution_count": null,
   "id": "c3ec6108",
   "metadata": {},
   "outputs": [],
   "source": []
  },
  {
   "cell_type": "markdown",
   "id": "4f26349f",
   "metadata": {},
   "source": [
    "#### 60 Days of Coad"
   ]
  },
  {
   "cell_type": "code",
   "execution_count": 54,
   "id": "06f285a0",
   "metadata": {},
   "outputs": [],
   "source": [
    "question_data = [\n",
    "    {\"text\": \"A slug's blood is green.\", \"answer\": \"True\"},\n",
    "    {\"text\": \"The loudest animal is the African Elephant.\", \"answer\": \"False\"},\n",
    "    {\"text\": \"Approximately one quarter of human bones are in the feet.\", \"answer\": \"True\"},\n",
    "    {\"text\": \"The total surface area of a human lungs is the size of a football pitch.\", \"answer\": \"True\"},\n",
    "    {\"text\": \"In West Virginia, USA, if you accidentally hit an animal with your car, you are free to take it home to \"\n",
    "             \"eat.\", \"answer\": \"True\"},\n",
    "    {\"text\": \"In London, UK, if you happen to die in the House of Parliament, \"\n",
    "             \"you are entitled to a state funeral.\", \"answer\": \"False\"},\n",
    "    {\"text\": \"It is illegal to pee in the Ocean in Portugal.\", \"answer\": \"True\"},\n",
    "    {\"text\": \"You can lead a cow down stairs but not up stairs.\", \"answer\": \"False\"},\n",
    "    {\"text\": \"Google was originally called 'Backrub'.\", \"answer\": \"True\"},\n",
    "    {\"text\": \"Buzz Aldrin's mother's maiden name was 'Moon'.\", \"answer\": \"True\"},\n",
    "    {\"text\": \"No piece of square dry paper can be folded in half more than 7 times.\", \"answer\": \"False\"},\n",
    "    {\"text\": \"A few ounces of chocolate can to kill a small dog.\", \"answer\": \"True\"}\n",
    "]"
   ]
  },
  {
   "cell_type": "code",
   "execution_count": 63,
   "id": "dd7dcfae",
   "metadata": {},
   "outputs": [],
   "source": [
    "for value in question_data:\n",
    "    question = value[\"text\"]\n",
    "    answer = value[\"answer\"]"
   ]
  },
  {
   "cell_type": "code",
   "execution_count": 65,
   "id": "538d15c2",
   "metadata": {},
   "outputs": [],
   "source": [
    "class QuestionModel:\n",
    "    def __init__(self, question, answer):\n",
    "        self.question = question\n",
    "        self.answer = answer"
   ]
  },
  {
   "cell_type": "code",
   "execution_count": 70,
   "id": "37daf3d4",
   "metadata": {},
   "outputs": [],
   "source": [
    "q_a = QuestionModel(question,answer)"
   ]
  },
  {
   "cell_type": "code",
   "execution_count": 73,
   "id": "c67734c1",
   "metadata": {},
   "outputs": [
    {
     "name": "stdout",
     "output_type": "stream",
     "text": [
      "A few ounces of chocolate can to kill a small dog.\n"
     ]
    }
   ],
   "source": [
    "print(q_a.question)"
   ]
  },
  {
   "cell_type": "code",
   "execution_count": 74,
   "id": "347806db",
   "metadata": {},
   "outputs": [
    {
     "name": "stdout",
     "output_type": "stream",
     "text": [
      "True\n"
     ]
    }
   ],
   "source": [
    "print(q_a.answer)"
   ]
  },
  {
   "cell_type": "code",
   "execution_count": 1,
   "id": "e9479d51",
   "metadata": {},
   "outputs": [],
   "source": [
    "question_d = [\n",
    "    {\"category\": \"Science: Computers\",\n",
    "     \"type\": \"boolean\",\n",
    "     \"difficulty\": \"easy\",\n",
    "     \"question\": \"The logo for Snapchat is a Bell.\",\n",
    "     \"correct_answer\": \"False\",\n",
    "     \"incorrect_answers\": [\"True\"]\n",
    "     },\n",
    "    {\"category\": \"Science: Computers\", \"type\": \"boolean\", \"difficulty\": \"easy\",\n",
    "     \"question\": \"Pointers were not used in the original C programming language; they were added later on in C++.\",\n",
    "     \"correct_answer\": \"False\", \"incorrect_answers\": [\"True\"]},\n",
    "    {\"category\": \"Science: Computers\", \"type\": \"boolean\", \"difficulty\": \"easy\",\n",
    "     \"question\": \"RAM stands for Random Access Memory.\", \"correct_answer\": \"True\",\n",
    "     \"incorrect_answers\": [\"False\"]},\n",
    "    {\"category\": \"Science: Computers\", \"type\": \"boolean\", \"difficulty\": \"easy\",\n",
    "     \"question\": \"Ada Lovelace is often considered the first computer programmer.\",\n",
    "     \"correct_answer\": \"True\", \"incorrect_answers\": [\"False\"]},\n",
    "    {\"category\": \"Science: Computers\", \"type\": \"boolean\", \"difficulty\": \"easy\",\n",
    "     \"question\": \"&quot;HTML&quot; stands for Hypertext Markup Language.\",\n",
    "     \"correct_answer\": \"True\", \"incorrect_answers\": [\"False\"]},\n",
    "    {\"category\": \"Science: Computers\", \"type\": \"boolean\", \"difficulty\": \"easy\",\n",
    "     \"question\": \"In most programming languages, the operator ++ is equivalent to the statement &quot;+= 1&quot;.\",\n",
    "     \"correct_answer\": \"True\", \"incorrect_answers\": [\"False\"]},\n",
    "    {\"category\": \"Science: Computers\", \"type\": \"boolean\", \"difficulty\": \"easy\",\n",
    "     \"question\": \"Time on Computers is measured via the EPOX System.\",\n",
    "     \"correct_answer\": \"False\", \"incorrect_answers\": [\"True\"]},\n",
    "    {\"category\": \"Science: Computers\", \"type\": \"boolean\", \"difficulty\": \"easy\",\n",
    "     \"question\": \"The Windows 7 operating system has six main editions.\",\n",
    "     \"correct_answer\": \"True\", \"incorrect_answers\": [\"False\"]},\n",
    "    {\"category\": \"Science: Computers\", \"type\": \"boolean\", \"difficulty\": \"easy\",\n",
    "     \"question\": \"Linux was first created as an alternative to Windows XP.\",\n",
    "     \"correct_answer\": \"False\", \"incorrect_answers\": [\"True\"]},\n",
    "    {\"category\": \"Science: Computers\", \"type\": \"boolean\", \"difficulty\": \"easy\",\n",
    "     \"question\": \"The Python programming language gets its name from the British comedy group &quot;Monty Python.&quot;\",\n",
    "     \"correct_answer\": \"True\", \"incorrect_answers\": [\"False\"]}]"
   ]
  },
  {
   "cell_type": "code",
   "execution_count": 4,
   "id": "23ad7f63",
   "metadata": {},
   "outputs": [
    {
     "name": "stdout",
     "output_type": "stream",
     "text": [
      "Science: Computers\n",
      "Science: Computers\n",
      "Science: Computers\n",
      "Science: Computers\n",
      "Science: Computers\n",
      "Science: Computers\n",
      "Science: Computers\n",
      "Science: Computers\n",
      "Science: Computers\n",
      "Science: Computers\n"
     ]
    }
   ],
   "source": [
    "for value in question_d:\n",
    "    print(value[\"category\"])"
   ]
  },
  {
   "cell_type": "code",
   "execution_count": null,
   "id": "31feddab",
   "metadata": {},
   "outputs": [],
   "source": []
  }
 ],
 "metadata": {
  "kernelspec": {
   "display_name": "Python 3 (ipykernel)",
   "language": "python",
   "name": "python3"
  },
  "language_info": {
   "codemirror_mode": {
    "name": "ipython",
    "version": 3
   },
   "file_extension": ".py",
   "mimetype": "text/x-python",
   "name": "python",
   "nbconvert_exporter": "python",
   "pygments_lexer": "ipython3",
   "version": "3.8.8"
  }
 },
 "nbformat": 4,
 "nbformat_minor": 5
}
