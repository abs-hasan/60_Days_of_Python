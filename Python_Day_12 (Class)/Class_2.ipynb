{
 "cells": [
  {
   "cell_type": "markdown",
   "id": "553baa39",
   "metadata": {},
   "source": []
  },
  {
   "cell_type": "code",
   "execution_count": 1,
   "id": "4974d4c8",
   "metadata": {},
   "outputs": [],
   "source": [
    "class MyClass:\n",
    "    x = 5"
   ]
  },
  {
   "cell_type": "code",
   "execution_count": 2,
   "id": "9504483a",
   "metadata": {},
   "outputs": [
    {
     "data": {
      "text/plain": [
       "5"
      ]
     },
     "execution_count": 2,
     "metadata": {},
     "output_type": "execute_result"
    }
   ],
   "source": [
    "MyClass.x"
   ]
  },
  {
   "cell_type": "markdown",
   "id": "9b5e5bc6",
   "metadata": {},
   "source": [
    "#### The __init__() Function\n",
    "The examples above are classes and objects in their simplest form, and are not really useful in real life applications.\n",
    "\n",
    "To understand the meaning of classes we have to understand the built-in __init__() function.\n",
    "\n",
    "All classes have a function called __init__(), which is always executed when the class is being initiated.\n",
    "\n",
    "Use the __init__() function to assign values to object properties, or other operations that are necessary to do when the object is being created:\n",
    "\n",
    "Example\n",
    "Create a class named Person, use the __init__() function to assign values for name and age:"
   ]
  },
  {
   "cell_type": "code",
   "execution_count": 4,
   "id": "ad65debe",
   "metadata": {},
   "outputs": [
    {
     "name": "stdout",
     "output_type": "stream",
     "text": [
      "Jhon\n"
     ]
    }
   ],
   "source": [
    "class Person:\n",
    "    def __init__(self, name, age):\n",
    "        self.name = name\n",
    "        self.age = age\n",
    "\n",
    "p1 = Person(\"Jhon\",36)\n",
    "\n",
    "print(p1.name)"
   ]
  },
  {
   "cell_type": "code",
   "execution_count": 5,
   "id": "c12803cd",
   "metadata": {},
   "outputs": [
    {
     "data": {
      "text/plain": [
       "36"
      ]
     },
     "execution_count": 5,
     "metadata": {},
     "output_type": "execute_result"
    }
   ],
   "source": [
    "p1.age"
   ]
  },
  {
   "cell_type": "code",
   "execution_count": 13,
   "id": "5c1e4a64",
   "metadata": {},
   "outputs": [],
   "source": [
    "class Person_2:\n",
    "    def __init__(self, name, age):\n",
    "        self.name = name\n",
    "        self.age = age\n",
    "    \n",
    "    def my_func(self):\n",
    "        print(\"Hello my name is \" + self.name)"
   ]
  },
  {
   "cell_type": "code",
   "execution_count": 14,
   "id": "2acbdaf8",
   "metadata": {},
   "outputs": [],
   "source": [
    "p1 = Person_2(\"Jhon\",36)"
   ]
  },
  {
   "cell_type": "code",
   "execution_count": 16,
   "id": "0310f668",
   "metadata": {},
   "outputs": [
    {
     "data": {
      "text/plain": [
       "'Jhon'"
      ]
     },
     "execution_count": 16,
     "metadata": {},
     "output_type": "execute_result"
    }
   ],
   "source": [
    "p1.name"
   ]
  },
  {
   "cell_type": "code",
   "execution_count": 17,
   "id": "9115d53c",
   "metadata": {},
   "outputs": [
    {
     "data": {
      "text/plain": [
       "36"
      ]
     },
     "execution_count": 17,
     "metadata": {},
     "output_type": "execute_result"
    }
   ],
   "source": [
    "p1.age"
   ]
  },
  {
   "cell_type": "code",
   "execution_count": 18,
   "id": "e427c9f6",
   "metadata": {},
   "outputs": [
    {
     "name": "stdout",
     "output_type": "stream",
     "text": [
      "Hello my name is Jhon\n"
     ]
    }
   ],
   "source": [
    "p1.my_func()"
   ]
  },
  {
   "cell_type": "code",
   "execution_count": 21,
   "id": "905cd4e1",
   "metadata": {},
   "outputs": [],
   "source": [
    "# Creating a Dog Class\n",
    "\n",
    "class Dog:\n",
    "    def __init__(self, name, age):\n",
    "        self.name = name\n",
    "        self.age = age\n",
    "    def sit(self):\n",
    "        print(f\"{self.name} is now sitting\")\n",
    "    def rollover(self):\n",
    "        print(f\"{self.name} rolled over\")"
   ]
  },
  {
   "cell_type": "code",
   "execution_count": 30,
   "id": "199d13f5",
   "metadata": {},
   "outputs": [],
   "source": [
    "# Calling Instances\n",
    "my_dog = Dog('Willie',6)"
   ]
  },
  {
   "cell_type": "code",
   "execution_count": 28,
   "id": "b9eb5a88",
   "metadata": {},
   "outputs": [
    {
     "data": {
      "text/plain": [
       "'Willie'"
      ]
     },
     "execution_count": 28,
     "metadata": {},
     "output_type": "execute_result"
    }
   ],
   "source": [
    "# Accessing Attributes\n",
    "my_dog.name"
   ]
  },
  {
   "cell_type": "code",
   "execution_count": 24,
   "id": "29f31222",
   "metadata": {},
   "outputs": [
    {
     "data": {
      "text/plain": [
       "6"
      ]
     },
     "execution_count": 24,
     "metadata": {},
     "output_type": "execute_result"
    }
   ],
   "source": [
    "my_dog.age"
   ]
  },
  {
   "cell_type": "code",
   "execution_count": 29,
   "id": "9b138da2",
   "metadata": {},
   "outputs": [
    {
     "name": "stdout",
     "output_type": "stream",
     "text": [
      "Willie is now sitting\n"
     ]
    }
   ],
   "source": [
    "# Calling Methods\n",
    "my_dog.sit()"
   ]
  },
  {
   "cell_type": "code",
   "execution_count": 27,
   "id": "819078b6",
   "metadata": {},
   "outputs": [
    {
     "name": "stdout",
     "output_type": "stream",
     "text": [
      "Willie rolled over\n"
     ]
    }
   ],
   "source": [
    "my_dog.rollover()"
   ]
  },
  {
   "cell_type": "markdown",
   "id": "32a5b7fd",
   "metadata": {},
   "source": [
    "#### Working with class and Instances"
   ]
  },
  {
   "cell_type": "code",
   "execution_count": 32,
   "id": "11207b36",
   "metadata": {},
   "outputs": [],
   "source": [
    "class car:\n",
    "    def __init__(self, make, model, year):\n",
    "        self.make = make\n",
    "        self.model = model\n",
    "        self.year = year\n",
    "    def get_descriptive_name(self):\n",
    "        long_name = f\"{self.year} {self.make} {self.model}\"\n",
    "        return long_name"
   ]
  },
  {
   "cell_type": "code",
   "execution_count": 33,
   "id": "0b50ddce",
   "metadata": {},
   "outputs": [],
   "source": [
    "# Calling Instances\n",
    "my_new_car = car('audi','a4','2019')"
   ]
  },
  {
   "cell_type": "code",
   "execution_count": 34,
   "id": "e60a05c3",
   "metadata": {},
   "outputs": [
    {
     "data": {
      "text/plain": [
       "'2019 audi a4'"
      ]
     },
     "execution_count": 34,
     "metadata": {},
     "output_type": "execute_result"
    }
   ],
   "source": [
    "#Calling method\n",
    "my_new_car.get_descriptive_name()\n",
    "        "
   ]
  },
  {
   "cell_type": "markdown",
   "id": "502c26cb",
   "metadata": {},
   "source": [
    "#### Setting a default value for a attribute "
   ]
  },
  {
   "cell_type": "code",
   "execution_count": 38,
   "id": "c20a4636",
   "metadata": {},
   "outputs": [
    {
     "data": {
      "text/plain": [
       "'2019 audi a4'"
      ]
     },
     "execution_count": 38,
     "metadata": {},
     "output_type": "execute_result"
    }
   ],
   "source": [
    "class car:\n",
    "    def __init__(self, make, model, year):\n",
    "        self.make = make\n",
    "        self.model = model \n",
    "        self.year = year\n",
    "        self.odometer = 5\n",
    "        \n",
    "    def get_descriptive_name(self):\n",
    "        long_name = f\"{self.year} {self.make} {self.model}\"\n",
    "        return long_name\n",
    "    def read_odo(self):\n",
    "        print(self.odometer)\n",
    "# Calling Instances\n",
    "my_new_car = car('audi','a4','2019')\n",
    "#Calling method\n",
    "my_new_car.get_descriptive_name()\n"
   ]
  },
  {
   "cell_type": "code",
   "execution_count": 39,
   "id": "db13e344",
   "metadata": {},
   "outputs": [
    {
     "name": "stdout",
     "output_type": "stream",
     "text": [
      "5\n"
     ]
    }
   ],
   "source": [
    "my_new_car.read_odo()"
   ]
  },
  {
   "cell_type": "markdown",
   "id": "8e236f4b",
   "metadata": {},
   "source": [
    "#### Modifying Attribute Value"
   ]
  },
  {
   "cell_type": "code",
   "execution_count": 41,
   "id": "5b894ed3",
   "metadata": {},
   "outputs": [
    {
     "name": "stdout",
     "output_type": "stream",
     "text": [
      "5\n"
     ]
    }
   ],
   "source": [
    "# Modifying Attribute value directly\n",
    "class car:\n",
    "    def __init__(self, make, model, year):\n",
    "        self.make = make\n",
    "        self.model = model \n",
    "        self.year = year\n",
    "        self.odometer = 5\n",
    "        \n",
    "    def get_descriptive_name(self):\n",
    "        long_name = f\"{self.year} {self.make} {self.model}\"\n",
    "        return long_name\n",
    "    def read_odo(self):\n",
    "        print(self.odometer)\n",
    "\n",
    "# Calling Instances\n",
    "my_new_car = car('audi','a4','2019')\n",
    "\n",
    "#Calling method\n",
    "my_new_car.read_odo()"
   ]
  },
  {
   "cell_type": "code",
   "execution_count": 42,
   "id": "83b7e581",
   "metadata": {},
   "outputs": [
    {
     "name": "stdout",
     "output_type": "stream",
     "text": [
      "20\n"
     ]
    }
   ],
   "source": [
    "my_new_car.odometer = 20\n",
    "my_new_car.read_odo()"
   ]
  },
  {
   "cell_type": "code",
   "execution_count": 43,
   "id": "8ac6bd9d",
   "metadata": {},
   "outputs": [
    {
     "name": "stdout",
     "output_type": "stream",
     "text": [
      "5\n"
     ]
    }
   ],
   "source": [
    "# Modifying attribute value through a method\n",
    "class car:\n",
    "    def __init__(self, make, model, year):\n",
    "        self.make = make\n",
    "        self.model = model \n",
    "        self.year = year\n",
    "        self.odometer = 5\n",
    "        \n",
    "    def get_descriptive_name(self):\n",
    "        long_name = f\"{self.year} {self.make} {self.model}\"\n",
    "        return long_name\n",
    "    def read_odo(self):\n",
    "        print(self.odometer)\n",
    "    def update_odo(self, milage):\n",
    "        self.odometer = milage\n",
    "\n",
    "# Calling Instances\n",
    "my_new_car = car('audi','a4','2019')\n",
    "\n",
    "#Calling method\n",
    "my_new_car.read_odo()"
   ]
  },
  {
   "cell_type": "code",
   "execution_count": 45,
   "id": "15075e99",
   "metadata": {},
   "outputs": [
    {
     "name": "stdout",
     "output_type": "stream",
     "text": [
      "25\n"
     ]
    }
   ],
   "source": [
    "my_new_car.update_odo(25)\n",
    "my_new_car.read_odo()"
   ]
  },
  {
   "cell_type": "code",
   "execution_count": 52,
   "id": "45c334f0",
   "metadata": {},
   "outputs": [
    {
     "name": "stdout",
     "output_type": "stream",
     "text": [
      "5\n"
     ]
    }
   ],
   "source": [
    "# Increment attribute value through a method\n",
    "class car:\n",
    "    def __init__(self, make, model, year):\n",
    "        self.make = make\n",
    "        self.model = model \n",
    "        self.year = year\n",
    "        self.odometer_reading = 5\n",
    "        \n",
    "    def get_descriptive_name(self):\n",
    "        long_name = f\"{self.year} {self.make} {self.model}\"\n",
    "        return long_name\n",
    "    def read_odo(self):\n",
    "        print(self.odometer_reading)\n",
    "        \n",
    "    def update_odo(self, milage):\n",
    "        self.odometer_reading = milage\n",
    "    def increment_odo(self, miles):\n",
    "        self.odometer_reading +=miles\n",
    "\n",
    "# Calling Instances\n",
    "my_new_car = car('audi','a4','2019')\n",
    "\n",
    "#Calling method\n",
    "my_new_car.read_odo()"
   ]
  },
  {
   "cell_type": "code",
   "execution_count": 53,
   "id": "889ffad3",
   "metadata": {},
   "outputs": [
    {
     "name": "stdout",
     "output_type": "stream",
     "text": [
      "25\n"
     ]
    }
   ],
   "source": [
    "my_new_car.update_odo(25)\n",
    "my_new_car.read_odo()"
   ]
  },
  {
   "cell_type": "code",
   "execution_count": 56,
   "id": "3f44cf02",
   "metadata": {},
   "outputs": [
    {
     "name": "stdout",
     "output_type": "stream",
     "text": [
      "200\n"
     ]
    }
   ],
   "source": [
    "my_new_car.increment_odo(25)\n",
    "my_new_car.read_odo()"
   ]
  },
  {
   "cell_type": "markdown",
   "id": "271be84b",
   "metadata": {},
   "source": [
    "#### Inheritance\n",
    "* Parent class\n",
    "* Child Clas"
   ]
  },
  {
   "cell_type": "code",
   "execution_count": 65,
   "id": "c5e317b1",
   "metadata": {},
   "outputs": [],
   "source": [
    "# Increment attribute value through a method\n",
    "class car:\n",
    "    def __init__(self, make, model, year):\n",
    "        self.make = make\n",
    "        self.model = model \n",
    "        self.year = year\n",
    "        self.odometer_reading = 5\n",
    "        \n",
    "    def get_descriptive_name(self):\n",
    "        long_name = f\"{self.year} {self.make} {self.model}\"\n",
    "        return long_name\n",
    "    def read_odo(self):\n",
    "        print(self.odometer_reading)\n",
    "        \n",
    "    def update_odo(self, milage):\n",
    "        if milage >= self.odometer_reading:\n",
    "            self.odometer_reading = milage\n",
    "    \n",
    "    def increment_odo(self, miles):\n",
    "        self.odometer_reading +=miles\n",
    "\n",
    "#Inheritance from above class\n",
    "class ElectricCar(car): #child class\n",
    "    def __init__ (self, make, model, year): # Making a car instance\n",
    "        super().__init__(make, model, year)  # super function allowing to call parent class"
   ]
  },
  {
   "cell_type": "code",
   "execution_count": 68,
   "id": "92ed51f5",
   "metadata": {},
   "outputs": [],
   "source": [
    "#Making an instance\n",
    "my_tesla = ElectricCar('tesla','model s', 2019)"
   ]
  },
  {
   "cell_type": "code",
   "execution_count": 67,
   "id": "9538f601",
   "metadata": {},
   "outputs": [
    {
     "data": {
      "text/plain": [
       "'2019 tesla model s'"
      ]
     },
     "execution_count": 67,
     "metadata": {},
     "output_type": "execute_result"
    }
   ],
   "source": [
    "my_tesla.get_descriptive_name()"
   ]
  },
  {
   "cell_type": "markdown",
   "id": "e85449ae",
   "metadata": {},
   "source": [
    "#### Defining Attributes and Method from child class"
   ]
  },
  {
   "cell_type": "code",
   "execution_count": 70,
   "id": "6e73861b",
   "metadata": {},
   "outputs": [],
   "source": [
    "# Increment attribute value through a method\n",
    "class car:\n",
    "    def __init__(self, make, model, year):\n",
    "        self.make = make\n",
    "        self.model = model \n",
    "        self.year = year\n",
    "        self.odometer_reading = 5\n",
    "        \n",
    "    def get_descriptive_name(self):\n",
    "        long_name = f\"{self.year} {self.make} {self.model}\"\n",
    "        return long_name\n",
    "    def read_odo(self):\n",
    "        print(self.odometer_reading)\n",
    "        \n",
    "    def update_odo(self, milage):\n",
    "        if milage >= self.odometer_reading:\n",
    "            self.odometer_reading = milage\n",
    "    \n",
    "    def increment_odo(self, miles):\n",
    "        self.odometer_reading +=miles\n",
    "\n",
    "#Inheritance from above class\n",
    "class ElectricCar(car): #child class\n",
    "    def __init__ (self, make, model, year): # Making a car instance\n",
    "        super().__init__(make, model, year)  # super function allowing to call parent class\n",
    "        self.battery = 75\n",
    "    def describe_battery(self):\n",
    "        print(self.battery)"
   ]
  },
  {
   "cell_type": "code",
   "execution_count": 71,
   "id": "2790a993",
   "metadata": {},
   "outputs": [],
   "source": [
    "#Making an instance\n",
    "my_tesla = ElectricCar('tesla','model s', 2019)"
   ]
  },
  {
   "cell_type": "code",
   "execution_count": 73,
   "id": "12913c9a",
   "metadata": {},
   "outputs": [
    {
     "name": "stdout",
     "output_type": "stream",
     "text": [
      "75\n"
     ]
    }
   ],
   "source": [
    "my_tesla.describe_battery()"
   ]
  },
  {
   "cell_type": "markdown",
   "id": "5da6dcbd",
   "metadata": {},
   "source": [
    "#### Overriding Method from parent class"
   ]
  },
  {
   "cell_type": "code",
   "execution_count": 83,
   "id": "ed8ca29e",
   "metadata": {},
   "outputs": [],
   "source": [
    "# Increment attribute value through a method\n",
    "class car:\n",
    "    def __init__(self, make, model, year):\n",
    "        self.make = make\n",
    "        self.model = model \n",
    "        self.year = year\n",
    "        self.odometer_reading = 5\n",
    "        \n",
    "    def get_descriptive_name(self):\n",
    "        long_name = f\"{self.year} {self.make} {self.model}\"\n",
    "        return long_name\n",
    "    def read_odo(self):\n",
    "        print(self.odometer_reading)\n",
    "        \n",
    "    def update_odo(self, milage):\n",
    "        if milage >= self.odometer_reading:\n",
    "            self.odometer_reading = milage\n",
    "    \n",
    "    def increment_odo(self, miles):\n",
    "        self.odometer_reading +=miles\n",
    "\n",
    "class Battery:\n",
    "    def __init__(self, battery_size = 215):\n",
    "        self.battery_size = battery_size\n",
    "    def describe_battery(self):\n",
    "        print(self.battery_size)\n",
    "\n",
    "#Inheritance from above class\n",
    "class ElectricCar(car): #child class\n",
    "    def __init__ (self, make, model, year): # Making a car instance\n",
    "        super().__init__(make, model, year)  # super function allowing to call parent class\n",
    "        self.battery = Battery()"
   ]
  },
  {
   "cell_type": "code",
   "execution_count": 84,
   "id": "8fcfdf0d",
   "metadata": {},
   "outputs": [
    {
     "name": "stdout",
     "output_type": "stream",
     "text": [
      "215\n"
     ]
    }
   ],
   "source": [
    "#Making an instance\n",
    "my_tesla = ElectricCar('tesla','model s', 2019)\n",
    "my_tesla.battery.describe_battery()"
   ]
  },
  {
   "cell_type": "code",
   "execution_count": null,
   "id": "e03bda04",
   "metadata": {},
   "outputs": [],
   "source": []
  }
 ],
 "metadata": {
  "kernelspec": {
   "display_name": "Python 3 (ipykernel)",
   "language": "python",
   "name": "python3"
  },
  "language_info": {
   "codemirror_mode": {
    "name": "ipython",
    "version": 3
   },
   "file_extension": ".py",
   "mimetype": "text/x-python",
   "name": "python",
   "nbconvert_exporter": "python",
   "pygments_lexer": "ipython3",
   "version": "3.8.8"
  }
 },
 "nbformat": 4,
 "nbformat_minor": 5
}
