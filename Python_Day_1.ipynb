{
 "cells": [
  {
   "cell_type": "markdown",
   "id": "1d851993",
   "metadata": {},
   "source": [
    "##### Input Function\n",
    "\n",
    "Write a program that prints the number of characters in a user's name. You might need to Google for a function that calculates the length of a string."
   ]
  },
  {
   "cell_type": "code",
   "execution_count": 28,
   "id": "13999f35",
   "metadata": {},
   "outputs": [
    {
     "name": "stdout",
     "output_type": "stream",
     "text": [
      "What is your name ? \n",
      "Jack\n",
      "4\n"
     ]
    }
   ],
   "source": [
    "name = input(\"What is your name ? \\n\")\n",
    "print(len(name))"
   ]
  },
  {
   "cell_type": "markdown",
   "id": "01bce749",
   "metadata": {},
   "source": [
    "#### Variables\n",
    "\n",
    "Write a program that switches the values stored in the variables a and b."
   ]
  },
  {
   "cell_type": "code",
   "execution_count": 11,
   "id": "7a2d93b3",
   "metadata": {},
   "outputs": [
    {
     "name": "stdout",
     "output_type": "stream",
     "text": [
      "a: 60\n",
      "b : 30\n",
      "\n",
      "a: 30\n",
      "b: 60\n"
     ]
    }
   ],
   "source": [
    "a = input(\"a: \")\n",
    "b = input(\"b : \")\n",
    "\n",
    "a1 = b\n",
    "b = a\n",
    "a = a1\n",
    "\n",
    "print(\"\\na: \" + a)\n",
    "print(\"b: \" + b)"
   ]
  },
  {
   "cell_type": "code",
   "execution_count": 12,
   "id": "9a31d2d4",
   "metadata": {},
   "outputs": [],
   "source": [
    "# day 1 Project - Band Name generator"
   ]
  },
  {
   "cell_type": "code",
   "execution_count": 13,
   "id": "3daff131",
   "metadata": {},
   "outputs": [],
   "source": [
    "#1. Create a greeting for your program.\n",
    "#2. Ask the user for the city that they grew up in.\n",
    "#3. Ask the user for the name of a pet.\n",
    "#4. Combine the name of their city and pet and show them their band name.\n",
    "#5. Make sure the input cursor shows on a new line, see the example at:\n",
    "https://replit.com/@Learner0112/Pythond1basiccalculation#main.py"
   ]
  },
  {
   "cell_type": "code",
   "execution_count": 21,
   "id": "59c4a9a5",
   "metadata": {},
   "outputs": [
    {
     "name": "stdout",
     "output_type": "stream",
     "text": [
      "Hello Good Human Being! Welcome to the Band Name Generator\n",
      "\n",
      "Name of the city that they grew up in : hello\n",
      "\n",
      "Name of your pet : book\n",
      "\n",
      "The name of your band could be Hello Book\n"
     ]
    }
   ],
   "source": [
    "print(\"Hello Good Human Being! Welcome to the Band Name Generator\")\n",
    "city_name = input(\"\\nName of the city that they grew up in : \")\n",
    "pet_name = input(\"\\nName of a pet : \")\n",
    "\n",
    "print(f\"\\nThe name of your band could be {city_name.title()} {pet_name.title()}\")"
   ]
  },
  {
   "cell_type": "code",
   "execution_count": 22,
   "id": "0db56535",
   "metadata": {},
   "outputs": [],
   "source": [
    "a = 3.1453"
   ]
  },
  {
   "cell_type": "code",
   "execution_count": 24,
   "id": "d1c82f8b",
   "metadata": {},
   "outputs": [
    {
     "name": "stdout",
     "output_type": "stream",
     "text": [
      "Each person should pay: $3.15\n"
     ]
    }
   ],
   "source": [
    "print(\"Each person should pay: ${:.2f}\".format(a))\n"
   ]
  },
  {
   "cell_type": "code",
   "execution_count": 27,
   "id": "31247caf",
   "metadata": {},
   "outputs": [
    {
     "name": "stdout",
     "output_type": "stream",
     "text": [
      "Welcom to the tip Calulator\n",
      "what is the total bill? $59.3\n",
      "How many people to split the bill? 5\n",
      "What percentage tip would you like to give ? 10, 12, or 15 ? 12\n",
      "Each person should pay: $154.18\n"
     ]
    }
   ],
   "source": [
    "message = \"Welcom to the tip Calulator\"\n",
    "print(message)\n",
    "bill = input(\"what is the total bill? $\")\n",
    "split = input(\"How many people to split the bill? \")\n",
    "tip  = input(\"What percentage tip would you like to give ? 10, 12, or 15 ? \")\n",
    "\n",
    "bill = float(bill)\n",
    "total_bill = float(bill) * (1 + int(tip))\n",
    "payment = total_bill/int(split)\n",
    "\n",
    "print(\"Each person should pay: ${:.2f}\".format(payment))\n"
   ]
  },
  {
   "cell_type": "code",
   "execution_count": 26,
   "id": "5d5b3f8a",
   "metadata": {},
   "outputs": [
    {
     "data": {
      "text/plain": [
       "set"
      ]
     },
     "execution_count": 26,
     "metadata": {},
     "output_type": "execute_result"
    }
   ],
   "source": [
    "type(payment)"
   ]
  },
  {
   "cell_type": "code",
   "execution_count": null,
   "id": "f08817be",
   "metadata": {},
   "outputs": [],
   "source": []
  }
 ],
 "metadata": {
  "kernelspec": {
   "display_name": "Python 3",
   "language": "python",
   "name": "python3"
  },
  "language_info": {
   "codemirror_mode": {
    "name": "ipython",
    "version": 3
   },
   "file_extension": ".py",
   "mimetype": "text/x-python",
   "name": "python",
   "nbconvert_exporter": "python",
   "pygments_lexer": "ipython3",
   "version": "3.8.8"
  }
 },
 "nbformat": 4,
 "nbformat_minor": 5
}
