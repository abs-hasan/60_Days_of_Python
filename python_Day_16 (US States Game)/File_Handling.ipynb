{
 "cells": [
  {
   "cell_type": "code",
   "execution_count": 3,
   "id": "e269a6ce",
   "metadata": {},
   "outputs": [
    {
     "name": "stdout",
     "output_type": "stream",
     "text": [
      "Hello!\n",
      "I am ABS Hasan\n"
     ]
    }
   ],
   "source": [
    "# basic way to open csv file\n",
    "# Not Recommended\n",
    "\n",
    "file = open(\"my_file.txt\")\n",
    "contents = file.read()\n",
    "\n",
    "print(contents)\n",
    "file.close()"
   ]
  },
  {
   "cell_type": "code",
   "execution_count": 4,
   "id": "04cca736",
   "metadata": {},
   "outputs": [
    {
     "name": "stdout",
     "output_type": "stream",
     "text": [
      "Hello!\n",
      "I am ABS Hasan\n"
     ]
    }
   ],
   "source": [
    "# recommended one \n",
    "\n",
    "with open(\"my_file.txt\") as file:\n",
    "    contents = file.read()\n",
    "    print(contents)"
   ]
  },
  {
   "cell_type": "code",
   "execution_count": 7,
   "id": "4e41dc71",
   "metadata": {},
   "outputs": [
    {
     "name": "stdout",
     "output_type": "stream",
     "text": [
      "8\n"
     ]
    }
   ],
   "source": [
    "#Writing = mode = W\n",
    "\n",
    "with open(\"my_file_2.txt\", mode = \"w\") as file:\n",
    "    contents = file.write(\"new Text\")"
   ]
  },
  {
   "cell_type": "code",
   "execution_count": 10,
   "id": "b0532e7a",
   "metadata": {},
   "outputs": [
    {
     "name": "stdout",
     "output_type": "stream",
     "text": [
      "new Text\n"
     ]
    }
   ],
   "source": [
    "# recommended one \n",
    "\n",
    "with open(\"my_file_2.txt\") as file:\n",
    "    contents = file.read()\n",
    "    print(contents)"
   ]
  },
  {
   "cell_type": "code",
   "execution_count": 11,
   "id": "1f9eeb7c",
   "metadata": {},
   "outputs": [],
   "source": [
    "#Writing : append , mode = a\n",
    "\n",
    "with open(\"my_file_2.txt\", mode = \"a\") as file:\n",
    "    file.write(\"new Text_append\")"
   ]
  },
  {
   "cell_type": "code",
   "execution_count": 12,
   "id": "45a48a5b",
   "metadata": {},
   "outputs": [
    {
     "name": "stdout",
     "output_type": "stream",
     "text": [
      "new Textnew Text_append\n"
     ]
    }
   ],
   "source": [
    "# recommended one \n",
    "\n",
    "with open(\"my_file_2.txt\") as file:\n",
    "    contents = file.read()\n",
    "    print(contents)"
   ]
  },
  {
   "cell_type": "code",
   "execution_count": null,
   "id": "030c7141",
   "metadata": {},
   "outputs": [],
   "source": []
  }
 ],
 "metadata": {
  "kernelspec": {
   "display_name": "Python 3 (ipykernel)",
   "language": "python",
   "name": "python3"
  },
  "language_info": {
   "codemirror_mode": {
    "name": "ipython",
    "version": 3
   },
   "file_extension": ".py",
   "mimetype": "text/x-python",
   "name": "python",
   "nbconvert_exporter": "python",
   "pygments_lexer": "ipython3",
   "version": "3.8.8"
  }
 },
 "nbformat": 4,
 "nbformat_minor": 5
}
