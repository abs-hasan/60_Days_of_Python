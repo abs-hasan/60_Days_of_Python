{
 "cells": [
  {
   "cell_type": "markdown",
   "id": "e5922c71",
   "metadata": {},
   "source": [
    "##### Data Types"
   ]
  },
  {
   "cell_type": "code",
   "execution_count": 10,
   "id": "7fa32f5f",
   "metadata": {},
   "outputs": [
    {
     "name": "stdout",
     "output_type": "stream",
     "text": [
      "Type a two digit number: 25\n",
      "7\n"
     ]
    }
   ],
   "source": [
    "two_digit = input(\"Type a two digit number: \")\n",
    "\n",
    "a = two_digit[0]\n",
    "b = two_digit[1]\n",
    "\n",
    "total = int(a) + int(b) \n",
    "print(total)"
   ]
  },
  {
   "cell_type": "markdown",
   "id": "63aa652f",
   "metadata": {},
   "source": [
    "### Project 1 - Interactive BMI Calculator\n",
    "\n",
    "$BMI = weight (KG)/ height ^2 (m^2)$"
   ]
  },
  {
   "cell_type": "code",
   "execution_count": 23,
   "id": "547e5b3b",
   "metadata": {},
   "outputs": [
    {
     "name": "stdout",
     "output_type": "stream",
     "text": [
      "Enter you height in m: 1.7\n",
      "Enter you height in kg: 74\n",
      "You BMI is : 26\n"
     ]
    }
   ],
   "source": [
    "message = \"Welcom to our BMI Calculator\"\n",
    "height = input(\"Enter you height in m: \")\n",
    "weight = input(\"Enter you height in kg: \")\n",
    "\n",
    "bmi = float(weight)/float(height)**2\n",
    "print(\"You BMI is : {:.0f}\".format(bmi))"
   ]
  },
  {
   "cell_type": "markdown",
   "id": "ce869157",
   "metadata": {},
   "source": [
    "### Project 2 - Weeks counts of Avg Life span\n",
    "\n",
    "Create a program using maths and f-Strings that tells us how many days, weeks, months *we have left if we live until 90 years* old.\n",
    "\n",
    "It will take your current age as the input and output a message with our time left in this format:\n",
    "\n",
    "You have x days, y weeks, and z months left.\n",
    "\n",
    "Where x, y and z are replaced with the actual calculated numbers.\n",
    "\n",
    "Warning your output should match the Example Output format exactly, even the positions of the commas and full stops."
   ]
  },
  {
   "cell_type": "code",
   "execution_count": 35,
   "id": "8e07cabf",
   "metadata": {},
   "outputs": [
    {
     "name": "stdout",
     "output_type": "stream",
     "text": [
      "What is your current age ? 28\n",
      "You have 22630 days, 3224 weeks and 744 months left\n"
     ]
    }
   ],
   "source": [
    "avg_age = 90\n",
    "current_age = input(\"What is your current age ? \")\n",
    "\n",
    "left = avg_age - int(current_age)\n",
    "days = left*365\n",
    "weeks = left*52\n",
    "months = left * 12\n",
    "\n",
    "print(f\"You have {days} days, {weeks} weeks and {months} months left\")"
   ]
  },
  {
   "cell_type": "code",
   "execution_count": 15,
   "id": "687288bb",
   "metadata": {},
   "outputs": [
    {
     "name": "stdout",
     "output_type": "stream",
     "text": [
      "You BMI is : 6.375624999999999\n"
     ]
    }
   ],
   "source": [
    "print(\"You BMI is : {}\".format(b))"
   ]
  },
  {
   "cell_type": "markdown",
   "id": "508686ef",
   "metadata": {},
   "source": [
    "### Project 3 - Tip Calculator"
   ]
  },
  {
   "cell_type": "code",
   "execution_count": 37,
   "id": "54adb00c",
   "metadata": {},
   "outputs": [
    {
     "name": "stdout",
     "output_type": "stream",
     "text": [
      "Welcom to the tip Calulator\n",
      "what is the total bill? $25\n",
      "How many people to split the bill? 5\n",
      "What percentage tip would you like to give ? 10, 12, or 15 ? 12\n",
      "Each person should pay: $5.60\n"
     ]
    }
   ],
   "source": [
    "message = \"Welcom to the tip Calulator\"\n",
    "print(message)\n",
    "bill = input(\"what is the total bill? $\")\n",
    "split = input(\"How many people to split the bill? \")\n",
    "tip  = input(\"What percentage tip would you like to give ? 10, 12, or 15 ? \")\n",
    "\n",
    "bill = float(bill)\n",
    "total_bill = float(bill) * (1 + int(tip)/100)\n",
    "payment = total_bill/int(split)\n",
    "\n",
    "print(\"Each person should pay: ${:.2f}\".format(payment))"
   ]
  },
  {
   "cell_type": "code",
   "execution_count": null,
   "id": "d47fa344",
   "metadata": {},
   "outputs": [],
   "source": []
  }
 ],
 "metadata": {
  "kernelspec": {
   "display_name": "Python 3",
   "language": "python",
   "name": "python3"
  },
  "language_info": {
   "codemirror_mode": {
    "name": "ipython",
    "version": 3
   },
   "file_extension": ".py",
   "mimetype": "text/x-python",
   "name": "python",
   "nbconvert_exporter": "python",
   "pygments_lexer": "ipython3",
   "version": "3.8.8"
  }
 },
 "nbformat": 4,
 "nbformat_minor": 5
}
