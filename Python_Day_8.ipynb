{
 "cells": [
  {
   "cell_type": "markdown",
   "id": "158b6650",
   "metadata": {},
   "source": [
    "#### Excercise 1: Grading Program\n",
    "\n",
    "You have access to a database of student_scores in the format of a dictionary. The keys in student_scores are the names of the students and the values are their exam scores.\n",
    "\n",
    "Write a program that converts their scores to grades. By the end of your program, you should have a new dictionary called student_grades that should contain student names for keys and their grades for values. The final version of the student_grades dictionary will be checked.\n",
    "\n",
    "DO NOT modify lines 1-7 to change the existing student_scores dictionary.\n",
    "\n",
    "DO NOT write any print statements.\n",
    "\n",
    "This is the scoring criteria:\n",
    "\n",
    "Scores 91 - 100: Grade = \"Outstanding\"\n",
    "\n",
    "Scores 81 - 90: Grade = \"Exceeds Expectations\"\n",
    "\n",
    "Scores 71 - 80: Grade = \"Acceptable\"\n",
    "\n",
    "Scores 70 or lower: Grade = \"Fail\"\n",
    "\n",
    "##### Expected Output\n",
    "\n",
    "'{'Harry': 'Exceeds Expectations', 'Ron': 'Acceptable', 'Hermione': 'Outstanding', 'Draco': 'Acceptable', 'Neville': 'Fail'}'"
   ]
  },
  {
   "cell_type": "code",
   "execution_count": 45,
   "id": "7084c519",
   "metadata": {},
   "outputs": [],
   "source": [
    "student_scores = {\n",
    "  \"Harry\": 81,\n",
    "  \"Ron\": 78,\n",
    "  \"Hermione\": 99, \n",
    "  \"Draco\": 74,\n",
    "  \"Neville\": 62,}"
   ]
  },
  {
   "cell_type": "code",
   "execution_count": 46,
   "id": "ecf3e64d",
   "metadata": {},
   "outputs": [
    {
     "name": "stdout",
     "output_type": "stream",
     "text": [
      "{'Harry': 81, 'Ron': 78, 'Hermione': 99, 'Draco': 74, 'Neville': 62}\n",
      "{'Harry': 'Exceeds Expectations', 'Ron': 'Acceptable', 'Hermione': 'Outstanding', 'Draco': 'Acceptable', 'Neville': 'fail'}\n"
     ]
    }
   ],
   "source": [
    "empty_dict = {}\n",
    "for value in student_scores:\n",
    "    if student_scores[value] > 90:\n",
    "        empty_dict[value] = \"Outstanding\"\n",
    "    elif student_scores[value] > 80:\n",
    "        empty_dict[value] = \"Exceeds Expectations\"\n",
    "    elif student_scores[value] > 70:\n",
    "        empty_dict[value] = \"Acceptable\"\n",
    "    else:\n",
    "        empty_dict[value] = \"fail\"\n",
    "print(student_scores)\n",
    "print(empty_dict)"
   ]
  },
  {
   "cell_type": "markdown",
   "id": "f2e50cc4",
   "metadata": {},
   "source": [
    "#### Excercise 2: Dictionary in a List\n",
    "\n",
    "\n",
    "You are going to write a program that adds to a travel_log. You can see a travel_log which is a List that contains 2 Dictionaries.\n",
    "\n",
    "Write a function that will work with the following line of code on line 21 to add the entry for Russia to the travel_log.\n",
    "\n",
    "* add_new_country(\"Russia\", 2, [\"Moscow\", \"Saint Petersburg\"])\n",
    "* You've visited Russia 2 times.\n",
    "\n",
    "* You've been to Moscow and Saint Petersburg.\n",
    "\n",
    "DO NOT modify the travel_log directly. You need to create a function that modifies it.\n",
    "\n",
    "* Hint\n",
    "\n",
    "Look at the function call above to see what the name of the function should be.\n",
    "\n",
    "The inputs for the function are positional arguments. The order is very important.\n",
    "\n",
    "Feel free to choose your own parameter names."
   ]
  },
  {
   "cell_type": "code",
   "execution_count": 47,
   "id": "f173970c",
   "metadata": {},
   "outputs": [
    {
     "name": "stdout",
     "output_type": "stream",
     "text": [
      "[{'country': 'France', 'visits': 12, 'cities': ['Paris', 'Lille', 'Dijon']}, {'country': 'Germany', 'visits': 5, 'cities': ['Berlin', 'Hamburg', 'Stuttgart']}, {'country': 'Russia', 'visits': 2, 'cities': ['Moscow', 'Saint Petersburg']}]\n"
     ]
    }
   ],
   "source": [
    "travel_log = [\n",
    "{\n",
    "  \"country\": \"France\",\n",
    "  \"visits\": 12,\n",
    "  \"cities\": [\"Paris\", \"Lille\", \"Dijon\"]\n",
    "},\n",
    "{\n",
    "  \"country\": \"Germany\",\n",
    "  \"visits\": 5,\n",
    "  \"cities\": [\"Berlin\", \"Hamburg\", \"Stuttgart\"]\n",
    "},\n",
    "]\n",
    "\n",
    "def add_country(country,visits,cities):\n",
    "    new_dict = {\"country\":country, \"visits\": visits, \"cities\" : cities}\n",
    "    travel_log.append(new_dict)\n",
    "\n",
    "add_country(\"Russia\", 2, [\"Moscow\", \"Saint Petersburg\"])\n",
    "\n",
    "print(travel_log)"
   ]
  },
  {
   "cell_type": "markdown",
   "id": "ef9dab07",
   "metadata": {},
   "source": [
    "### Day 8: FInal Project - Secrect Auction Program"
   ]
  },
  {
   "cell_type": "code",
   "execution_count": 44,
   "id": "e042778a",
   "metadata": {},
   "outputs": [
    {
     "name": "stdout",
     "output_type": "stream",
     "text": [
      "Welcom to the secret auction program.\n",
      "What is your name? abs\n",
      "What's your bid? $5\n",
      "Are there any other bidders? Type 'yes' or 'no'. yes\n",
      "What is your name? hasan\n",
      "What's your bid? $9\n",
      "Are there any other bidders? Type 'yes' or 'no'. no\n",
      "Session Ended.\n",
      "\n",
      "The winner is Hasan with a bid of $8.0\n"
     ]
    }
   ],
   "source": [
    "#adding item to dictionary\n",
    "def adding_bid(name, bid_amount):\n",
    "    bid_dict.update({name:bid_amount})\n",
    "\n",
    "#highest bidder\n",
    "def highest_bidder(bid_dict):\n",
    "    highest_bidder = 0\n",
    "    winner = \"\"\n",
    "    for key, value in bid_dict.items():\n",
    "        if value > highest_bidder:\n",
    "            highest_bidder = value\n",
    "            winner = key\n",
    "    print(f\"\\nThe winner is {winner} with a bid of ${highest_bid}\")\n",
    "\n",
    "\n",
    "bid_dict = {}\n",
    "\n",
    "print(\"Welcom to the secret auction program.\")\n",
    "\n",
    "confirmation = True\n",
    "\n",
    "while confirmation:\n",
    "    \n",
    "    name = input(\"What is your name? \").title()\n",
    "    bid_amount = float(input(\"What's your bid? $\"))\n",
    "    confirmation = input(\"Are there any other bidders? Type 'yes' or 'no'. \").lower()\n",
    "    \n",
    "    adding_bid(name, bid_amount)\n",
    "    \n",
    "    if confirmation == 'no':\n",
    "        confirmation = False\n",
    "        print(\"Session Ended.\")\n",
    "        highest_bidder(bid_dict)"
   ]
  }
 ],
 "metadata": {
  "kernelspec": {
   "display_name": "Python 3",
   "language": "python",
   "name": "python3"
  },
  "language_info": {
   "codemirror_mode": {
    "name": "ipython",
    "version": 3
   },
   "file_extension": ".py",
   "mimetype": "text/x-python",
   "name": "python",
   "nbconvert_exporter": "python",
   "pygments_lexer": "ipython3",
   "version": "3.8.8"
  }
 },
 "nbformat": 4,
 "nbformat_minor": 5
}
