{
 "cells": [
  {
   "cell_type": "markdown",
   "id": "db8f6d14",
   "metadata": {},
   "source": [
    "### Project 1 : Average Height"
   ]
  },
  {
   "cell_type": "markdown",
   "id": "5ea3a697",
   "metadata": {},
   "source": [
    "You are going to write a program that calculates the average student height from a List of heights.\n",
    "\n",
    "e.g. student_heights = [180, 124, 165, 173, 189, 169, 146]\n",
    "\n",
    "The average height can be calculated by adding all the heights together and dividing by the total number of heights.\n",
    "\n",
    "e.g.\n",
    "\n",
    "180 + 124 + 165 + 173 + 189 + 169 + 146 = 1146\n",
    "\n",
    "There are a total of 7 heights in student_heights\n",
    "\n",
    "1146 ÷ 7 = 163.71428571428572\n",
    "\n",
    "Average height rounded to the nearest whole number = 164\n",
    "\n",
    "Important You should not use the sum() or len() functions in your answer. You should try to replicate their functionality using what you have learnt about for loops."
   ]
  },
  {
   "cell_type": "code",
   "execution_count": 150,
   "id": "721f4790",
   "metadata": {},
   "outputs": [
    {
     "name": "stdout",
     "output_type": "stream",
     "text": [
      "Input a list of student Heights : 78, 65, 89, 86, 55, 91, 64, 89\n",
      "Average height of these 8 students is 77\n"
     ]
    }
   ],
   "source": [
    "student_heights = input(\"Input a list of student Heights : \")\n",
    "\n",
    "\n",
    "if type(student_heights) == str:\n",
    "    student_heights = student_heights.split(\", \")\n",
    "    if type(student_heights) == str:\n",
    "        student_heights = student_heights.split(\",\")    \n",
    "        if type(student_heights) == str:\n",
    "            student_heights = student_heights.split()\n",
    "\n",
    "\n",
    "total_height = 0\n",
    "total_students = len(student_heights)\n",
    "\n",
    "for value in student_heights:\n",
    "    total_height += float(value)\n",
    "\n",
    "avg_height = round(total_height / total_students)\n",
    "\n",
    "print(f\"Average height of these {total_students} students is {avg_height}\")"
   ]
  },
  {
   "cell_type": "code",
   "execution_count": 144,
   "id": "75e631fd",
   "metadata": {},
   "outputs": [
    {
     "data": {
      "text/plain": [
       "list"
      ]
     },
     "execution_count": 144,
     "metadata": {},
     "output_type": "execute_result"
    }
   ],
   "source": [
    "type(student_heights.split(\", \"))"
   ]
  },
  {
   "cell_type": "code",
   "execution_count": 146,
   "id": "3d1bc054",
   "metadata": {},
   "outputs": [
    {
     "data": {
      "text/plain": [
       "str"
      ]
     },
     "execution_count": 146,
     "metadata": {},
     "output_type": "execute_result"
    }
   ],
   "source": [
    "type(student_heights)"
   ]
  },
  {
   "cell_type": "markdown",
   "id": "7bf43b72",
   "metadata": {},
   "source": [
    "### Project 2 : High Score\n",
    "\n",
    "You are going to write a program that calculates the highest score from a List of scores.\n",
    "\n",
    "e.g. student_scores = [78, 65, 89, 86, 55, 91, 64, 89]\n",
    "\n",
    "<b>Important you are not allowed to use the max or min functions.</b>\n",
    "    The output words must match the example. i.e\n",
    "\n",
    "The highest score in the class is: x"
   ]
  },
  {
   "cell_type": "code",
   "execution_count": 153,
   "id": "940650eb",
   "metadata": {},
   "outputs": [
    {
     "name": "stdout",
     "output_type": "stream",
     "text": [
      "Input a list of student scores : 78, 65, 89, 86, 55, 91, 64, 89\n",
      "The highest score in the class is: 91\n"
     ]
    }
   ],
   "source": [
    "student_scores = input(\"Input a list of student scores : \")\n",
    "\n",
    "if type(student_scores) == str:\n",
    "    student_scores = student_scores.split(\", \")\n",
    "    if type(student_scores) == str:\n",
    "        student_scores = student_scores.split(\",\")    \n",
    "        if type(student_scores) == str:\n",
    "            student_scores = student_scores.split()\n",
    "\n",
    "highest_scores = 0\n",
    "\n",
    "for value in student_scores:\n",
    "    scores = float(value)\n",
    "    if highest_scores < scores:\n",
    "        highest_scores = scores\n",
    "    else:\n",
    "        highest_scores\n",
    "print( f\"The highest score in the class is: {round(int(highest_scores))}\")"
   ]
  },
  {
   "cell_type": "markdown",
   "id": "8efe5735",
   "metadata": {},
   "source": [
    "### Project 3: Adding Evens\n",
    "\n",
    "You are going to write a program that calculates the sum of all the even numbers from 1 to 100. Thus, the first even number would be 2 and the last one is 100:\n",
    "\n",
    "i.e. 2 + 4 + 6 + 8 +10 ... + 98 + 100\n",
    "\n",
    "Important, there should only be 1 print statement in your console output. It should just print the final total and not every step of the calculation."
   ]
  },
  {
   "cell_type": "code",
   "execution_count": 4,
   "id": "ea575629",
   "metadata": {},
   "outputs": [
    {
     "name": "stdout",
     "output_type": "stream",
     "text": [
      "2550\n"
     ]
    }
   ],
   "source": [
    "# Method 1\n",
    "even = 0\n",
    "\n",
    "for i in range(1, 101):\n",
    "    if i % 2 == 0:\n",
    "        even += i\n",
    "print(even)"
   ]
  },
  {
   "cell_type": "code",
   "execution_count": 7,
   "id": "92708c30",
   "metadata": {},
   "outputs": [
    {
     "name": "stdout",
     "output_type": "stream",
     "text": [
      "2550\n"
     ]
    }
   ],
   "source": [
    "#method 2\n",
    "even = 0\n",
    "\n",
    "for i in range(2,101,2):\n",
    "    even += i\n",
    "print(even)"
   ]
  },
  {
   "cell_type": "markdown",
   "id": "69e29563",
   "metadata": {},
   "source": [
    "### Project 4: Fizz Buzz\n",
    "\n",
    "You are going to write a program that automatically prints the solution to the FizzBuzz game.\n",
    "\n",
    "Your program should print each number from 1 to 100 in turn.\n",
    "\n",
    "When the number is divisible by 3 then instead of printing the number it should print \"Fizz\".\n",
    "\n",
    "`When the number is divisible by 5, then instead of printing the number it should print \"Buzz\".` \n",
    "  `And if the number is divisible by both 3 and 5 e.g. 15 then instead of the number it should print \"FizzBuzz\"`\n",
    "e.g. it might start off like this:\n",
    "\n",
    "e.g. it might start off like this:\n",
    "\n",
    "`1\n",
    "2\n",
    "Fizz\n",
    "4\n",
    "Buzz\n",
    "Fizz\n",
    "7\n",
    "8\n",
    "Fizz\n",
    "Buzz\n",
    "11\n",
    "Fizz\n",
    "13\n",
    "14\n",
    "FizzBuzz`\n",
    ".... etc.\n",
    "\n",
    "Hint\n",
    "Remember your answer should start from 1 and go up to and including 100.\n",
    "\n",
    "Each number/text should be printed on a separate line.\n",
    "\n",
    "\n",
    "* 1) fully divided by 3 , say fizz\n",
    "* 2) by 5 , say buzz\n",
    "* 3) by 3 and 5, say fizzbuzz"
   ]
  },
  {
   "cell_type": "code",
   "execution_count": 13,
   "id": "6e6fcff8",
   "metadata": {
    "collapsed": true
   },
   "outputs": [
    {
     "name": "stdout",
     "output_type": "stream",
     "text": [
      "1\n",
      "2\n",
      "Fizz\n",
      "4\n",
      "Buzz\n",
      "Fizz\n",
      "7\n",
      "8\n",
      "Fizz\n",
      "Buzz\n",
      "11\n",
      "Fizz\n",
      "13\n",
      "14\n",
      "Fizz Buzz\n",
      "16\n",
      "17\n",
      "Fizz\n",
      "19\n",
      "Buzz\n",
      "Fizz\n",
      "22\n",
      "23\n",
      "Fizz\n",
      "Buzz\n",
      "26\n",
      "Fizz\n",
      "28\n",
      "29\n",
      "Fizz Buzz\n",
      "31\n",
      "32\n",
      "Fizz\n",
      "34\n",
      "Buzz\n",
      "Fizz\n",
      "37\n",
      "38\n",
      "Fizz\n",
      "Buzz\n",
      "41\n",
      "Fizz\n",
      "43\n",
      "44\n",
      "Fizz Buzz\n",
      "46\n",
      "47\n",
      "Fizz\n",
      "49\n",
      "Buzz\n",
      "Fizz\n",
      "52\n",
      "53\n",
      "Fizz\n",
      "Buzz\n",
      "56\n",
      "Fizz\n",
      "58\n",
      "59\n",
      "Fizz Buzz\n",
      "61\n",
      "62\n",
      "Fizz\n",
      "64\n",
      "Buzz\n",
      "Fizz\n",
      "67\n",
      "68\n",
      "Fizz\n",
      "Buzz\n",
      "71\n",
      "Fizz\n",
      "73\n",
      "74\n",
      "Fizz Buzz\n",
      "76\n",
      "77\n",
      "Fizz\n",
      "79\n",
      "Buzz\n",
      "Fizz\n",
      "82\n",
      "83\n",
      "Fizz\n",
      "Buzz\n",
      "86\n",
      "Fizz\n",
      "88\n",
      "89\n",
      "Fizz Buzz\n",
      "91\n",
      "92\n",
      "Fizz\n",
      "94\n",
      "Buzz\n",
      "Fizz\n",
      "97\n",
      "98\n",
      "Fizz\n",
      "Buzz\n"
     ]
    }
   ],
   "source": [
    "for value in range (1,101):\n",
    "    if value % 3 == 0 and value % 5 == 0:\n",
    "        print(\"Fizz Buzz\")\n",
    "    elif value % 3 == 0 and value % 5 != 0:\n",
    "        print(\"Fizz\")\n",
    "    elif value % 3 != 0 and value % 5 == 0:\n",
    "        print(\"Buzz\")\n",
    "    else:\n",
    "        print(value)"
   ]
  },
  {
   "cell_type": "markdown",
   "id": "3bb64fd9",
   "metadata": {},
   "source": [
    "### Projecmt 5: Password Generator - Final Day 5\n",
    "\n",
    "*  --- Let user to decide \n",
    "* how many letters they want in their password.\n",
    "* How many symbols \n",
    "* How many numbers\n",
    "\n",
    "\n",
    "After their input generate the password as per requirements."
   ]
  },
  {
   "cell_type": "code",
   "execution_count": 92,
   "id": "cc9ddf1c",
   "metadata": {},
   "outputs": [
    {
     "name": "stdout",
     "output_type": "stream",
     "text": [
      "Welcome to the PyPassword Generator!\n",
      "How many letters would you like in your password?\n",
      "5\n",
      "How many symbols would you like?\n",
      "5\n",
      "How many numbers would you like?\n",
      "5\n",
      "\n",
      "Here is your password: 1svcd9#5&)*+2U4\n"
     ]
    }
   ],
   "source": [
    "import random\n",
    "\n",
    "# Having all elements\n",
    "\n",
    "letters = ['a', 'b', 'c', 'd', 'e', 'f', 'g', 'h', 'i', 'j', 'k', 'l', 'm', 'n', 'o', 'p', 'q', 'r', 's', 't', 'u', 'v', 'w', 'x', 'y', 'z', 'A', 'B', 'C', 'D', 'E', 'F', 'G', 'H', 'I', 'J', 'K', 'L', 'M', 'N', 'O', 'P', 'Q', 'R', 'S', 'T', 'U', 'V', 'W', 'X', 'Y', 'Z']\n",
    "numbers = ['0', '1', '2', '3', '4', '5', '6', '7', '8', '9']\n",
    "symbols = ['!', '#', '$', '%', '&', '(', ')', '*', '+']\n",
    "\n",
    "\n",
    "print(\"Welcome to the PyPassword Generator!\")\n",
    "nr_letters= int(input(\"How many letters would you like in your password?\\n\")) \n",
    "nr_symbols = int(input(f\"How many symbols would you like?\\n\"))\n",
    "nr_numbers = int(input(f\"How many numbers would you like?\\n\"))\n",
    "\n",
    "l = random.choices(letters, k = nr_letters)\n",
    "n = random.sample(numbers,  nr_symbols)\n",
    "s = random.choices(symbols, k = nr_symbols)\n",
    "\n",
    "combined = l + n + s\n",
    "random.shuffle(combined)\n",
    "print(f\"\\nHere is your password: {''.join(combined)}\")\n",
    "\n",
    "\n",
    "# Alternative to combine:\n",
    "# \"\"\" for s2 in combined:\n",
    "#    pass_st +=s2\n",
    "# print(pass_st) \"\"\" "
   ]
  },
  {
   "cell_type": "code",
   "execution_count": null,
   "id": "fede09f0",
   "metadata": {},
   "outputs": [],
   "source": []
  }
 ],
 "metadata": {
  "kernelspec": {
   "display_name": "Python 3",
   "language": "python",
   "name": "python3"
  },
  "language_info": {
   "codemirror_mode": {
    "name": "ipython",
    "version": 3
   },
   "file_extension": ".py",
   "mimetype": "text/x-python",
   "name": "python",
   "nbconvert_exporter": "python",
   "pygments_lexer": "ipython3",
   "version": "3.8.8"
  }
 },
 "nbformat": 4,
 "nbformat_minor": 5
}
