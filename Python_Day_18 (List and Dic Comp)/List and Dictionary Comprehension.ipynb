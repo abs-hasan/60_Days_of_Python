{
 "cells": [
  {
   "cell_type": "code",
   "execution_count": 121,
   "id": "d4bde4a4",
   "metadata": {},
   "outputs": [],
   "source": [
    "import pandas as pd"
   ]
  },
  {
   "cell_type": "code",
   "execution_count": 1,
   "id": "f7b71b7f",
   "metadata": {},
   "outputs": [],
   "source": [
    "numbers  =[1,2,3,4]"
   ]
  },
  {
   "cell_type": "code",
   "execution_count": 7,
   "id": "a28344a0",
   "metadata": {},
   "outputs": [],
   "source": [
    "numbers = [new_item**2 for new_item in numbers]"
   ]
  },
  {
   "cell_type": "code",
   "execution_count": 8,
   "id": "1941efcf",
   "metadata": {},
   "outputs": [
    {
     "data": {
      "text/plain": [
       "[4, 9, 16, 25]"
      ]
     },
     "execution_count": 8,
     "metadata": {},
     "output_type": "execute_result"
    }
   ],
   "source": [
    "numbers"
   ]
  },
  {
   "cell_type": "code",
   "execution_count": 9,
   "id": "a6f5c84d",
   "metadata": {},
   "outputs": [],
   "source": [
    "name = \"ABS Hasan\""
   ]
  },
  {
   "cell_type": "code",
   "execution_count": 10,
   "id": "8bfc6ba5",
   "metadata": {},
   "outputs": [],
   "source": [
    "letters = [letter for letter in name]"
   ]
  },
  {
   "cell_type": "code",
   "execution_count": 11,
   "id": "6b9f4dfb",
   "metadata": {},
   "outputs": [
    {
     "data": {
      "text/plain": [
       "['A', 'B', 'S', ' ', 'H', 'a', 's', 'a', 'n']"
      ]
     },
     "execution_count": 11,
     "metadata": {},
     "output_type": "execute_result"
    }
   ],
   "source": [
    "letters"
   ]
  },
  {
   "cell_type": "code",
   "execution_count": 14,
   "id": "8744f852",
   "metadata": {},
   "outputs": [
    {
     "data": {
      "text/plain": [
       "[2, 4, 6, 8]"
      ]
     },
     "execution_count": 14,
     "metadata": {},
     "output_type": "execute_result"
    }
   ],
   "source": [
    "double = [square *2 for square in range(1,5)]\n",
    "double"
   ]
  },
  {
   "cell_type": "code",
   "execution_count": 15,
   "id": "75375141",
   "metadata": {},
   "outputs": [],
   "source": [
    "name = [\"ABS\",\"HASAN\",\"Alex\",\"Beth\",\"Caroline\",\"Dave\",\"Elanor\",\"Freddi\"]"
   ]
  },
  {
   "cell_type": "code",
   "execution_count": 20,
   "id": "0b9104a0",
   "metadata": {},
   "outputs": [],
   "source": [
    "short_names = [short_name.upper() for short_name in name if len(short_name) <=4] "
   ]
  },
  {
   "cell_type": "code",
   "execution_count": 21,
   "id": "c747588e",
   "metadata": {},
   "outputs": [
    {
     "data": {
      "text/plain": [
       "['ABS', 'ALEX', 'BETH', 'DAVE']"
      ]
     },
     "execution_count": 21,
     "metadata": {},
     "output_type": "execute_result"
    }
   ],
   "source": [
    "short_names"
   ]
  },
  {
   "cell_type": "code",
   "execution_count": 22,
   "id": "03dffe96",
   "metadata": {},
   "outputs": [],
   "source": [
    "numbers = [1,1,2,3,5,8,13,21,34,55]"
   ]
  },
  {
   "cell_type": "code",
   "execution_count": 25,
   "id": "8d80888b",
   "metadata": {},
   "outputs": [],
   "source": [
    "even_number = [e_num for e_num in numbers if e_num % 2 == 0]"
   ]
  },
  {
   "cell_type": "code",
   "execution_count": 26,
   "id": "d2f24916",
   "metadata": {},
   "outputs": [
    {
     "data": {
      "text/plain": [
       "[2, 8, 34]"
      ]
     },
     "execution_count": 26,
     "metadata": {},
     "output_type": "execute_result"
    }
   ],
   "source": [
    "even_number"
   ]
  },
  {
   "cell_type": "code",
   "execution_count": 78,
   "id": "908135b2",
   "metadata": {},
   "outputs": [
    {
     "name": "stdout",
     "output_type": "stream",
     "text": [
      "['3\\n', '6\\n', '13\\n', '5\\n', '7\\n', '89\\n', '12\\n', '33\\n', '34\\n', '1\\n', '344\\n', '42\\n']\n"
     ]
    }
   ],
   "source": [
    "with open(\"file1.txt\") as file1:\n",
    "    file1_data = file1.readlines()\n",
    "    print(file1_data)"
   ]
  },
  {
   "cell_type": "code",
   "execution_count": 79,
   "id": "0e1a4779",
   "metadata": {},
   "outputs": [
    {
     "name": "stdout",
     "output_type": "stream",
     "text": [
      "['3\\n', '6\\n', '5\\n', '8\\n', '33\\n', '12\\n', '7\\n', '4\\n', '72\\n', '2\\n', '42\\n', '13\\n']\n"
     ]
    }
   ],
   "source": [
    "with open(\"file2.txt\") as file2:\n",
    "    file2_data = file2.readlines()\n",
    "    print(file2_data)"
   ]
  },
  {
   "cell_type": "code",
   "execution_count": 82,
   "id": "38e6b564",
   "metadata": {},
   "outputs": [],
   "source": [
    "list_1 = [int(list3) for list3 in file1_data if list3 in file2_data]"
   ]
  },
  {
   "cell_type": "code",
   "execution_count": 83,
   "id": "f74256cf",
   "metadata": {},
   "outputs": [
    {
     "data": {
      "text/plain": [
       "[3, 6, 13, 5, 7, 12, 33, 42]"
      ]
     },
     "execution_count": 83,
     "metadata": {},
     "output_type": "execute_result"
    }
   ],
   "source": [
    "list_1"
   ]
  },
  {
   "cell_type": "markdown",
   "id": "a74065e6",
   "metadata": {},
   "source": [
    "#### Dictionary Comprehension"
   ]
  },
  {
   "cell_type": "code",
   "execution_count": 85,
   "id": "536cbcc7",
   "metadata": {},
   "outputs": [],
   "source": [
    "import random\n",
    "names = [\"Alex\",\"Beth\",\"Caroline\",\"Dave\",\"Elanor\",\"Freddi\"]"
   ]
  },
  {
   "cell_type": "code",
   "execution_count": 96,
   "id": "76fb787f",
   "metadata": {},
   "outputs": [],
   "source": [
    "student_scores = {student:random.randint(50,100) for student in names}"
   ]
  },
  {
   "cell_type": "code",
   "execution_count": 97,
   "id": "9f2364cb",
   "metadata": {},
   "outputs": [
    {
     "data": {
      "text/plain": [
       "{'Alex': 83,\n",
       " 'Beth': 60,\n",
       " 'Caroline': 61,\n",
       " 'Dave': 68,\n",
       " 'Elanor': 52,\n",
       " 'Freddi': 75}"
      ]
     },
     "execution_count": 97,
     "metadata": {},
     "output_type": "execute_result"
    }
   ],
   "source": [
    "student_scores"
   ]
  },
  {
   "cell_type": "code",
   "execution_count": 98,
   "id": "59395a1b",
   "metadata": {},
   "outputs": [],
   "source": [
    "# Looping through dictionary\n",
    "passed_students = { student:score for (student, score) in student_scores.items() if score >=60}"
   ]
  },
  {
   "cell_type": "code",
   "execution_count": 99,
   "id": "f9224a4f",
   "metadata": {},
   "outputs": [
    {
     "data": {
      "text/plain": [
       "{'Alex': 83, 'Beth': 60, 'Caroline': 61, 'Dave': 68, 'Freddi': 75}"
      ]
     },
     "execution_count": 99,
     "metadata": {},
     "output_type": "execute_result"
    }
   ],
   "source": [
    "passed_students"
   ]
  },
  {
   "cell_type": "code",
   "execution_count": 100,
   "id": "d42f7c95",
   "metadata": {},
   "outputs": [],
   "source": [
    "sentence = \"What is the Airspeed Velocity of an Unladen Swallow\""
   ]
  },
  {
   "cell_type": "code",
   "execution_count": 107,
   "id": "36cd696e",
   "metadata": {},
   "outputs": [],
   "source": [
    "result = {value:len(value) for value in sentence.split()}"
   ]
  },
  {
   "cell_type": "code",
   "execution_count": 108,
   "id": "42686ac0",
   "metadata": {},
   "outputs": [
    {
     "data": {
      "text/plain": [
       "{'What': 4,\n",
       " 'is': 2,\n",
       " 'the': 3,\n",
       " 'Airspeed': 8,\n",
       " 'Velocity': 8,\n",
       " 'of': 2,\n",
       " 'an': 2,\n",
       " 'Unladen': 7,\n",
       " 'Swallow': 7}"
      ]
     },
     "execution_count": 108,
     "metadata": {},
     "output_type": "execute_result"
    }
   ],
   "source": [
    "result"
   ]
  },
  {
   "cell_type": "code",
   "execution_count": 109,
   "id": "a830b044",
   "metadata": {},
   "outputs": [],
   "source": [
    "weather_c = {\n",
    "    \"Monday\" : 12,\n",
    "    \"Tuesday\" : 14,\n",
    "    \"Wednesday\" : 15,\n",
    "    \"Thursday\" : 14,\n",
    "    \"Friday\" : 21,\n",
    "    \"Saturday\" : 22,\n",
    "    \"Sunday\" : 24,\n",
    "}"
   ]
  },
  {
   "cell_type": "code",
   "execution_count": 117,
   "id": "9a4728b6",
   "metadata": {},
   "outputs": [
    {
     "data": {
      "text/plain": [
       "{'Monday': 53.6,\n",
       " 'Tuesday': 57.2,\n",
       " 'Wednesday': 59.0,\n",
       " 'Thursday': 57.2,\n",
       " 'Friday': 69.8,\n",
       " 'Saturday': 71.6,\n",
       " 'Sunday': 75.2}"
      ]
     },
     "execution_count": 117,
     "metadata": {},
     "output_type": "execute_result"
    }
   ],
   "source": [
    "weather_f = {days:((temp_c * 9/5) + 32) for (days,temp_c) in weather_c.items()} \n",
    "weather_f"
   ]
  },
  {
   "cell_type": "markdown",
   "id": "c085bf49",
   "metadata": {},
   "source": [
    "##### How to iterate over a pandas dataframe"
   ]
  },
  {
   "cell_type": "code",
   "execution_count": 119,
   "id": "48bd0f09",
   "metadata": {},
   "outputs": [],
   "source": [
    "student_dic = {\n",
    "    \"student\":[\"Alex\",\"Beth\",\"Caroline\"],\n",
    "    \"score\" : [56,76,98]}"
   ]
  },
  {
   "cell_type": "code",
   "execution_count": 123,
   "id": "b9ef38f1",
   "metadata": {},
   "outputs": [
    {
     "data": {
      "text/html": [
       "<div>\n",
       "<style scoped>\n",
       "    .dataframe tbody tr th:only-of-type {\n",
       "        vertical-align: middle;\n",
       "    }\n",
       "\n",
       "    .dataframe tbody tr th {\n",
       "        vertical-align: top;\n",
       "    }\n",
       "\n",
       "    .dataframe thead th {\n",
       "        text-align: right;\n",
       "    }\n",
       "</style>\n",
       "<table border=\"1\" class=\"dataframe\">\n",
       "  <thead>\n",
       "    <tr style=\"text-align: right;\">\n",
       "      <th></th>\n",
       "      <th>student</th>\n",
       "      <th>score</th>\n",
       "    </tr>\n",
       "  </thead>\n",
       "  <tbody>\n",
       "    <tr>\n",
       "      <th>0</th>\n",
       "      <td>Alex</td>\n",
       "      <td>56</td>\n",
       "    </tr>\n",
       "    <tr>\n",
       "      <th>1</th>\n",
       "      <td>Beth</td>\n",
       "      <td>76</td>\n",
       "    </tr>\n",
       "    <tr>\n",
       "      <th>2</th>\n",
       "      <td>Caroline</td>\n",
       "      <td>98</td>\n",
       "    </tr>\n",
       "  </tbody>\n",
       "</table>\n",
       "</div>"
      ],
      "text/plain": [
       "    student  score\n",
       "0      Alex     56\n",
       "1      Beth     76\n",
       "2  Caroline     98"
      ]
     },
     "execution_count": 123,
     "metadata": {},
     "output_type": "execute_result"
    }
   ],
   "source": [
    "student_dataframe = pd.DataFrame(student_dic)\n",
    "student_dataframe"
   ]
  },
  {
   "cell_type": "code",
   "execution_count": 127,
   "id": "233a27fe",
   "metadata": {
    "collapsed": true
   },
   "outputs": [
    {
     "name": "stdout",
     "output_type": "stream",
     "text": [
      "student\n",
      "\n",
      "0        Alex\n",
      "1        Beth\n",
      "2    Caroline\n",
      "Name: student, dtype: object\n",
      "score\n",
      "\n",
      "0    56\n",
      "1    76\n",
      "2    98\n",
      "Name: score, dtype: int64\n"
     ]
    }
   ],
   "source": [
    "for key, value in student_dataframe.items():\n",
    "    print(key)\n",
    "    print()\n",
    "    print(value)\n",
    "    "
   ]
  },
  {
   "cell_type": "code",
   "execution_count": 136,
   "id": "e7e602d7",
   "metadata": {
    "collapsed": true
   },
   "outputs": [
    {
     "name": "stdout",
     "output_type": "stream",
     "text": [
      "56\n",
      "\n",
      "0\n",
      "student    Alex\n",
      "score        56\n",
      "Name: 0, dtype: object\n",
      "Alex\n",
      "56\n",
      "\n",
      "1\n",
      "student    Beth\n",
      "score        76\n",
      "Name: 1, dtype: object\n",
      "Beth\n",
      "76\n",
      "\n",
      "2\n",
      "student    Caroline\n",
      "score            98\n",
      "Name: 2, dtype: object\n",
      "Caroline\n",
      "98\n",
      "\n"
     ]
    }
   ],
   "source": [
    "for (index, row) in student_dataframe.iterrows():\n",
    "    if row.student == \"Alex\":\n",
    "        print(row.score)\n",
    "        print()\n",
    "    print(index)\n",
    "    print(row)\n",
    "    print(row.student)\n",
    "    print(row.score)\n",
    "    print()"
   ]
  },
  {
   "cell_type": "code",
   "execution_count": 140,
   "id": "60dd5d99",
   "metadata": {},
   "outputs": [
    {
     "data": {
      "text/html": [
       "<div>\n",
       "<style scoped>\n",
       "    .dataframe tbody tr th:only-of-type {\n",
       "        vertical-align: middle;\n",
       "    }\n",
       "\n",
       "    .dataframe tbody tr th {\n",
       "        vertical-align: top;\n",
       "    }\n",
       "\n",
       "    .dataframe thead th {\n",
       "        text-align: right;\n",
       "    }\n",
       "</style>\n",
       "<table border=\"1\" class=\"dataframe\">\n",
       "  <thead>\n",
       "    <tr style=\"text-align: right;\">\n",
       "      <th></th>\n",
       "      <th>letter</th>\n",
       "      <th>code</th>\n",
       "    </tr>\n",
       "  </thead>\n",
       "  <tbody>\n",
       "    <tr>\n",
       "      <th>0</th>\n",
       "      <td>A</td>\n",
       "      <td>Alfa</td>\n",
       "    </tr>\n",
       "    <tr>\n",
       "      <th>1</th>\n",
       "      <td>B</td>\n",
       "      <td>Bravo</td>\n",
       "    </tr>\n",
       "  </tbody>\n",
       "</table>\n",
       "</div>"
      ],
      "text/plain": [
       "  letter   code\n",
       "0      A   Alfa\n",
       "1      B  Bravo"
      ]
     },
     "execution_count": 140,
     "metadata": {},
     "output_type": "execute_result"
    }
   ],
   "source": [
    "data = pd.read_csv(\"Data/nato_phonetic_alphabet.csv\")\n",
    "data.head(2)"
   ]
  },
  {
   "cell_type": "code",
   "execution_count": 142,
   "id": "e866471f",
   "metadata": {
    "collapsed": true
   },
   "outputs": [
    {
     "name": "stdout",
     "output_type": "stream",
     "text": [
      "Alfa\n",
      "A\n",
      "Bravo\n",
      "B\n",
      "Charlie\n",
      "C\n",
      "Delta\n",
      "D\n",
      "Echo\n",
      "E\n",
      "Foxtrot\n",
      "F\n",
      "Golf\n",
      "G\n",
      "Hotel\n",
      "H\n",
      "India\n",
      "I\n",
      "Juliet\n",
      "J\n",
      "Kilo\n",
      "K\n",
      "Lima\n",
      "L\n",
      "Mike\n",
      "M\n",
      "November\n",
      "N\n",
      "Oscar\n",
      "O\n",
      "Papa\n",
      "P\n",
      "Quebec\n",
      "Q\n",
      "Romeo\n",
      "R\n",
      "Sierra\n",
      "S\n",
      "Tango\n",
      "T\n",
      "Uniform\n",
      "U\n",
      "Victor\n",
      "V\n",
      "Whiskey\n",
      "W\n",
      "X-ray\n",
      "X\n",
      "Yankee\n",
      "Y\n",
      "Zulu\n",
      "Z\n"
     ]
    }
   ],
   "source": [
    "for (index , row) in data.iterrows():\n",
    "    print(row.code)\n",
    "    print(row.letter)"
   ]
  },
  {
   "cell_type": "code",
   "execution_count": 143,
   "id": "fcdab5ac",
   "metadata": {},
   "outputs": [],
   "source": [
    "new_dict = {row.letter:row.code for (index, row) in data.iterrows()}"
   ]
  },
  {
   "cell_type": "code",
   "execution_count": 144,
   "id": "acfc3cf3",
   "metadata": {},
   "outputs": [
    {
     "data": {
      "text/plain": [
       "{'A': 'Alfa',\n",
       " 'B': 'Bravo',\n",
       " 'C': 'Charlie',\n",
       " 'D': 'Delta',\n",
       " 'E': 'Echo',\n",
       " 'F': 'Foxtrot',\n",
       " 'G': 'Golf',\n",
       " 'H': 'Hotel',\n",
       " 'I': 'India',\n",
       " 'J': 'Juliet',\n",
       " 'K': 'Kilo',\n",
       " 'L': 'Lima',\n",
       " 'M': 'Mike',\n",
       " 'N': 'November',\n",
       " 'O': 'Oscar',\n",
       " 'P': 'Papa',\n",
       " 'Q': 'Quebec',\n",
       " 'R': 'Romeo',\n",
       " 'S': 'Sierra',\n",
       " 'T': 'Tango',\n",
       " 'U': 'Uniform',\n",
       " 'V': 'Victor',\n",
       " 'W': 'Whiskey',\n",
       " 'X': 'X-ray',\n",
       " 'Y': 'Yankee',\n",
       " 'Z': 'Zulu'}"
      ]
     },
     "execution_count": 144,
     "metadata": {},
     "output_type": "execute_result"
    }
   ],
   "source": [
    "new_dict"
   ]
  },
  {
   "cell_type": "code",
   "execution_count": 148,
   "id": "26419cf9",
   "metadata": {},
   "outputs": [],
   "source": [
    "ipt = \"ABS\""
   ]
  },
  {
   "cell_type": "code",
   "execution_count": 147,
   "id": "20274f1c",
   "metadata": {},
   "outputs": [
    {
     "data": {
      "text/plain": [
       "'Alfa'"
      ]
     },
     "execution_count": 147,
     "metadata": {},
     "output_type": "execute_result"
    }
   ],
   "source": [
    "new_dict['A']"
   ]
  },
  {
   "cell_type": "code",
   "execution_count": 150,
   "id": "5f81365f",
   "metadata": {},
   "outputs": [
    {
     "name": "stdout",
     "output_type": "stream",
     "text": [
      "Alfa\n",
      "Bravo\n",
      "Sierra\n"
     ]
    }
   ],
   "source": [
    "# result = \n",
    "for value in ipt:\n",
    "    print(new_dict[value])"
   ]
  },
  {
   "cell_type": "code",
   "execution_count": 151,
   "id": "79667159",
   "metadata": {},
   "outputs": [],
   "source": []
  },
  {
   "cell_type": "code",
   "execution_count": 152,
   "id": "a6eb3456",
   "metadata": {},
   "outputs": [
    {
     "data": {
      "text/plain": [
       "['Alfa', 'Bravo', 'Sierra']"
      ]
     },
     "execution_count": 152,
     "metadata": {},
     "output_type": "execute_result"
    }
   ],
   "source": [
    "result"
   ]
  },
  {
   "cell_type": "code",
   "execution_count": null,
   "id": "bceee8b0",
   "metadata": {},
   "outputs": [],
   "source": []
  }
 ],
 "metadata": {
  "kernelspec": {
   "display_name": "Python 3 (ipykernel)",
   "language": "python",
   "name": "python3"
  },
  "language_info": {
   "codemirror_mode": {
    "name": "ipython",
    "version": 3
   },
   "file_extension": ".py",
   "mimetype": "text/x-python",
   "name": "python",
   "nbconvert_exporter": "python",
   "pygments_lexer": "ipython3",
   "version": "3.8.8"
  }
 },
 "nbformat": 4,
 "nbformat_minor": 5
}
