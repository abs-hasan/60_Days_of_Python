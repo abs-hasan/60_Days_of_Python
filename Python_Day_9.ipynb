{
 "cells": [
  {
   "cell_type": "markdown",
   "id": "1650e5be",
   "metadata": {},
   "source": [
    "##### Excercise 1 : Days in Month"
   ]
  },
  {
   "cell_type": "code",
   "execution_count": 3,
   "id": "5cdcfd25",
   "metadata": {},
   "outputs": [],
   "source": [
    "year = 2000"
   ]
  },
  {
   "cell_type": "code",
   "execution_count": 5,
   "id": "871b4bae",
   "metadata": {},
   "outputs": [
    {
     "name": "stdout",
     "output_type": "stream",
     "text": [
      "2000 is Leap Year\n"
     ]
    }
   ],
   "source": [
    "def leap_eyar(year):\n",
    "    if year % 4 == 0 and (year % 100 != 0 or year % 400 == 0):\n",
    "        print(f\"{year} is Leap Year\")\n",
    "    else:\n",
    "        print(f\"{year} is not a Leap Year.\")    "
   ]
  },
  {
   "cell_type": "code",
   "execution_count": 99,
   "id": "dda7fc8f",
   "metadata": {},
   "outputs": [
    {
     "name": "stdout",
     "output_type": "stream",
     "text": [
      "Enter a year: 2000\n",
      "Enter a month: 5\n",
      "31\n"
     ]
    }
   ],
   "source": [
    "def leap_year(year):\n",
    "    if year % 4 == 0 and (year % 100 != 0 or year % 400 == 0):\n",
    "        return True\n",
    "    else:\n",
    "        return False\n",
    "\n",
    "def days_in_month(year, month):\n",
    "    month_days = [31,28,31,30,31,30,31,31,30,31,30,31]\n",
    "    if leap_year(year) == True and month == 2:\n",
    "        m_days = month_days[month-1] +1\n",
    "        return m_days\n",
    "    else:\n",
    "        return month_days[month-1]\n",
    "year = int(input(\"Enter a year: \"))\n",
    "month = int(input(\"Enter a month: \"))\n",
    "\n",
    "days = days_in_month(year, month)\n",
    "print(days)"
   ]
  },
  {
   "cell_type": "code",
   "execution_count": 98,
   "id": "f982b3d6",
   "metadata": {},
   "outputs": [
    {
     "name": "stdout",
     "output_type": "stream",
     "text": [
      "Enter a year: 2000\n",
      "Enter a month: 5\n",
      "313\n"
     ]
    }
   ],
   "source": []
  },
  {
   "cell_type": "markdown",
   "id": "94b9c4ad",
   "metadata": {},
   "source": [
    "##### Excercise 2: Combining Dictionar and Function"
   ]
  },
  {
   "cell_type": "code",
   "execution_count": null,
   "id": "ac813f69",
   "metadata": {},
   "outputs": [
    {
     "name": "stdout",
     "output_type": "stream",
     "text": [
      "What's the first number ?: 5\n",
      "+\n",
      "-\n",
      "*\n",
      "/\n",
      "Pick an operation from the line above: +\n",
      "What's the next number ?: 6\n",
      "5.0 + 6.0 = 11.0\n",
      "Type 'y' to continue calculating with 11.0, or type 'n' to exit.: y\n",
      "+\n",
      "-\n",
      "*\n",
      "/\n",
      "Pick an operation from the line above: *\n",
      "What's the next number ?: 3\n",
      "11.0 * 3.0 = 33.0\n",
      "Type 'y' to continue calculating with 33.0, or type 'n' to exit.: n\n"
     ]
    }
   ],
   "source": [
    "def calculator():\n",
    "    def add(n1, n2):\n",
    "        return n1 + n2\n",
    "\n",
    "    def subtract(n1, n2):\n",
    "        return n1 - n2\n",
    "\n",
    "    def multiply(n1, n2):\n",
    "        return n1 * n2\n",
    "\n",
    "    def divide(n1, n2):\n",
    "        return n1 / n2\n",
    "\n",
    "    operators = {\"+\": add,\"-\":subtract,\"*\":multiply,\"/\":divide}\n",
    "\n",
    "    num1 = float(input(\"What's the first number ?: \"))\n",
    "\n",
    "\n",
    "    activate = True\n",
    "\n",
    "    while activate == True:\n",
    "\n",
    "        for symbol in operators:\n",
    "            print(symbol)\n",
    "        operation_symbol = input(\"Pick an operation from the line above: \")\n",
    "        num2 = float(input(\"What's the next number ?: \"))\n",
    "        calculation_function = operators[operation_symbol]\n",
    "        answer = calculation_function(num1, num2)\n",
    "        print(f\"{num1} {operation_symbol} {num2} = {answer}\")\n",
    "\n",
    "        msg = input(f\"Type 'y' to continue calculating with {answer}, or type 'n' to exit.: \").lower()\n",
    "\n",
    "        if msg == 'y':\n",
    "            num1 = answer\n",
    "            activate = True\n",
    "        elif msg == 'n':\n",
    "            activate = False\n",
    "            calculator()\n",
    "        else:\n",
    "            print(\"Incorrect Input\")\n",
    "\n",
    "calculator()"
   ]
  },
  {
   "cell_type": "code",
   "execution_count": null,
   "id": "ca00547d",
   "metadata": {},
   "outputs": [],
   "source": []
  }
 ],
 "metadata": {
  "kernelspec": {
   "display_name": "Python 3",
   "language": "python",
   "name": "python3"
  },
  "language_info": {
   "codemirror_mode": {
    "name": "ipython",
    "version": 3
   },
   "file_extension": ".py",
   "mimetype": "text/x-python",
   "name": "python",
   "nbconvert_exporter": "python",
   "pygments_lexer": "ipython3",
   "version": "3.8.8"
  }
 },
 "nbformat": 4,
 "nbformat_minor": 5
}
