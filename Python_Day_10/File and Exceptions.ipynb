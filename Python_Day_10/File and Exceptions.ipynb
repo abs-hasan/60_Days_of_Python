{
 "cells": [
  {
   "cell_type": "markdown",
   "id": "59a219cf",
   "metadata": {},
   "source": [
    "#### Reading a file\n",
    "\n",
    "\"r\" - Read - Default value. Opens a file for reading, error if the file does not exist\n",
    "\n",
    "\"a\" - Append - Opens a file for appending, creates the file if it does not exist\n",
    "\n",
    "\"w\" - Write - Opens a file for writing, creates the file if it does not exist\n",
    "\n",
    "\"x\" - Create - Creates the specified file, returns an error if the file exists\n",
    "\n",
    "\"t\" - Text - Default value. Text mode\n",
    "\n",
    "\"b\" - Binary - Binary mode (e.g. images)"
   ]
  },
  {
   "cell_type": "code",
   "execution_count": 1,
   "id": "0590a9a6",
   "metadata": {},
   "outputs": [],
   "source": [
    "with open ('pi_digits.txt') as file_object:\n",
    "    contents = file_object.read()"
   ]
  },
  {
   "cell_type": "code",
   "execution_count": 2,
   "id": "253af832",
   "metadata": {},
   "outputs": [
    {
     "data": {
      "text/plain": [
       "'3.1415926535\\n8979323846\\n2643383279'"
      ]
     },
     "execution_count": 2,
     "metadata": {},
     "output_type": "execute_result"
    }
   ],
   "source": [
    "contents"
   ]
  },
  {
   "cell_type": "code",
   "execution_count": 3,
   "id": "01519e06",
   "metadata": {},
   "outputs": [],
   "source": [
    "with open ('pi_digits.txt') as file:\n",
    "    a = file.read()"
   ]
  },
  {
   "cell_type": "code",
   "execution_count": 4,
   "id": "dd8808e7",
   "metadata": {},
   "outputs": [
    {
     "name": "stdout",
     "output_type": "stream",
     "text": [
      "3.1415926535\n",
      "8979323846\n",
      "2643383279\n"
     ]
    }
   ],
   "source": [
    "print(a)"
   ]
  },
  {
   "cell_type": "markdown",
   "id": "9821081f",
   "metadata": {},
   "source": [
    "#### Reading Line by Line\n"
   ]
  },
  {
   "cell_type": "code",
   "execution_count": 5,
   "id": "563cf004",
   "metadata": {},
   "outputs": [
    {
     "name": "stdout",
     "output_type": "stream",
     "text": [
      "1 : 3.1415926535\n",
      "\n",
      "1 : 8979323846\n",
      "\n",
      "1 : 2643383279\n"
     ]
    }
   ],
   "source": [
    "\n",
    "file_name = 'pi_digits.txt'\n",
    "\n",
    "with open(file_name) as line_by_line:\n",
    "    for a in line_by_line:\n",
    "        print(f\"1 : {a}\")"
   ]
  },
  {
   "cell_type": "code",
   "execution_count": 6,
   "id": "1c5b193c",
   "metadata": {},
   "outputs": [
    {
     "name": "stdout",
     "output_type": "stream",
     "text": [
      "3.1415926535\n",
      "8979323846\n",
      "2643383279\n"
     ]
    }
   ],
   "source": [
    "\n",
    "file_name = 'pi_digits.txt'\n",
    "\n",
    "with open(file_name) as line_by_line:\n",
    "    for a in line_by_line:\n",
    "        print(a.rstrip())"
   ]
  },
  {
   "cell_type": "markdown",
   "id": "b74f8445",
   "metadata": {},
   "source": [
    "#### Writing a file"
   ]
  },
  {
   "cell_type": "code",
   "execution_count": 7,
   "id": "fa4a7d11",
   "metadata": {},
   "outputs": [],
   "source": [
    "file_name = 'testing.txt'\n",
    "\n",
    "with open(file_name, 'w') as file_object:\n",
    "    file_object.write('This is my writing')"
   ]
  },
  {
   "cell_type": "code",
   "execution_count": 8,
   "id": "169b28ef",
   "metadata": {},
   "outputs": [],
   "source": [
    "with open(file_name) as f:\n",
    "    a= f.read()"
   ]
  },
  {
   "cell_type": "code",
   "execution_count": 9,
   "id": "71b32547",
   "metadata": {},
   "outputs": [
    {
     "name": "stdout",
     "output_type": "stream",
     "text": [
      "This is my writing\n"
     ]
    }
   ],
   "source": [
    "print(a)"
   ]
  },
  {
   "cell_type": "markdown",
   "id": "7d012c13",
   "metadata": {},
   "source": [
    "##### Json"
   ]
  },
  {
   "cell_type": "code",
   "execution_count": 10,
   "id": "7a93aa88",
   "metadata": {},
   "outputs": [],
   "source": [
    "import json\n",
    "numbers = [2,3,5,7,11,13]\n",
    "\n",
    "file_name = 'numbers.json'\n",
    "\n",
    "with open(file_name , 'w') as f:\n",
    "    json.dump(numbers, f)"
   ]
  },
  {
   "cell_type": "code",
   "execution_count": 11,
   "id": "36b738b2",
   "metadata": {},
   "outputs": [],
   "source": [
    "with open(file_name) as f:\n",
    "    numbers = json.load(f)"
   ]
  },
  {
   "cell_type": "code",
   "execution_count": 12,
   "id": "9d945146",
   "metadata": {},
   "outputs": [
    {
     "name": "stdout",
     "output_type": "stream",
     "text": [
      "[2, 3, 5, 7, 11, 13]\n"
     ]
    }
   ],
   "source": [
    "print(numbers)"
   ]
  },
  {
   "cell_type": "markdown",
   "id": "2d2493a4",
   "metadata": {},
   "source": [
    "#### Try - except - else - finally"
   ]
  },
  {
   "cell_type": "code",
   "execution_count": 13,
   "id": "01f8fc99",
   "metadata": {},
   "outputs": [
    {
     "name": "stdout",
     "output_type": "stream",
     "text": [
      "An exception occurred\n"
     ]
    }
   ],
   "source": [
    "try:\n",
    "  print(x)\n",
    "except:\n",
    "  print(\"An exception occurred\")\n"
   ]
  },
  {
   "cell_type": "code",
   "execution_count": 14,
   "id": "3460f808",
   "metadata": {},
   "outputs": [
    {
     "name": "stdout",
     "output_type": "stream",
     "text": [
      "Variable x is not defined\n"
     ]
    }
   ],
   "source": [
    "try:\n",
    "  print(x)\n",
    "except NameError:\n",
    "  print(\"Variable x is not defined\")\n",
    "except:\n",
    "  print(\"Something else went wrong\")"
   ]
  },
  {
   "cell_type": "code",
   "execution_count": 15,
   "id": "04fc8b52",
   "metadata": {},
   "outputs": [
    {
     "name": "stdout",
     "output_type": "stream",
     "text": [
      "Hello\n",
      "Nothing went wrong\n"
     ]
    }
   ],
   "source": [
    "try:\n",
    "  print(\"Hello\")\n",
    "except:\n",
    "  print(\"Something went wrong\")\n",
    "else:\n",
    "  print(\"Nothing went wrong\")"
   ]
  },
  {
   "cell_type": "code",
   "execution_count": 16,
   "id": "f537db1e",
   "metadata": {},
   "outputs": [
    {
     "name": "stdout",
     "output_type": "stream",
     "text": [
      "Something went wrong\n",
      "The 'try except' is finished\n"
     ]
    }
   ],
   "source": [
    "try:\n",
    "  print(x)\n",
    "except:\n",
    "  print(\"Something went wrong\")\n",
    "finally:\n",
    "  print(\"The 'try except' is finished\")"
   ]
  },
  {
   "cell_type": "markdown",
   "id": "d7482334",
   "metadata": {},
   "source": [
    "# From 100 Days Code"
   ]
  },
  {
   "cell_type": "markdown",
   "id": "48f56da1",
   "metadata": {},
   "source": [
    "### Reading Mode"
   ]
  },
  {
   "cell_type": "code",
   "execution_count": null,
   "id": "4543e0c3",
   "metadata": {},
   "outputs": [],
   "source": [
    "### Tried in PyCharm\n",
    "\n",
    "# file using open() method\n",
    "# Need to close\n",
    "file = open(\"my_file.txt\")\n",
    "contents = file.read()\n",
    "print(contents)\n",
    "file.colse()\n",
    "\n",
    "# file open by using with open() method.\n",
    "# no need use close method.\n",
    "with open(\"my_file.txt\") as file:\n",
    "    contents = file.read()\n",
    "    print(contents)\n",
    "\n",
    "# read file line by line\n",
    "with open(\"my_file.txt\") as file:\n",
    "    data = file.readlines()\n",
    "    print(data)\n",
    "\n",
    "# print one line only . 1st line\n",
    "with open(\"my_file.txt\") as file:\n",
    "    data = file.readline()\n",
    "    print(data)\n",
    "\n",
    "# Provide boolean value of readable or not\n",
    "with open(\"my_file.txt\") as file:\n",
    "    data = file.readable()\n",
    "    print(data)"
   ]
  },
  {
   "cell_type": "markdown",
   "id": "24a1f1c8",
   "metadata": {},
   "source": [
    "### Write mode"
   ]
  },
  {
   "cell_type": "code",
   "execution_count": null,
   "id": "0c0041d8",
   "metadata": {},
   "outputs": [],
   "source": [
    "# Writing the file\n",
    "# by default it is only readable\n",
    "# this way all previous value will be erased\n",
    "# Also will create new file if it does not exist\n",
    "with open(\"my_files.txt\", mode = \"w\") as file:\n",
    "    data = file.write(\"New Text line 1\")\n",
    "    print(\"w\")\n",
    "\n",
    "# to avoid above issue we will use append which is \"a\"\n",
    "with open(\"my_file.txt\", mode = \"a\") as file:\n",
    "    data = file.write(\"\\nNew Text line 1\")\n",
    "    print(\"w\")\n",
    "\n",
    "with open(\"my_file.txt\") as file:\n",
    "    data = file.readlines()\n",
    "    print(data)\n",
    "\n",
    "with open(\"my_files.txt\") as file:\n",
    "    data = file.readlines()\n",
    "    print(data)"
   ]
  },
  {
   "cell_type": "markdown",
   "id": "ab1aad71",
   "metadata": {},
   "source": [
    "### Absolute and Relative file path"
   ]
  },
  {
   "cell_type": "code",
   "execution_count": null,
   "id": "66070eb7",
   "metadata": {
    "scrolled": true
   },
   "outputs": [],
   "source": [
    "# Relative file and absolute file\n",
    "\n",
    "# Absolute file start with forward slash / Its a root\n",
    "# Working directory where we are currently working\n",
    "# ../ to go back\n",
    "\n",
    "with open(\"/Users/ABS/Desktop/my_file.txt\") as file:\n",
    "    data = file.read()\n",
    "    print(data)\n",
    "\n",
    "# C:\\Users\\ABS\\PycharmProjects\\readingCSVinpython\n",
    "\n",
    "with open(\"../../../ABS/my_file.txt\") as file:\n",
    "    data = file.read()\n",
    "    print(data)"
   ]
  },
  {
   "cell_type": "code",
   "execution_count": 17,
   "id": "c38cba87",
   "metadata": {},
   "outputs": [
    {
     "data": {
      "text/plain": [
       "'ABS'"
      ]
     },
     "execution_count": 17,
     "metadata": {},
     "output_type": "execute_result"
    }
   ],
   "source": [
    "# String.replace()\n",
    "# String.strip()\n",
    "\n",
    "a = \"ABS \"\n",
    "\n",
    "b = a.strip()\n",
    "b"
   ]
  },
  {
   "cell_type": "code",
   "execution_count": 18,
   "id": "b29b2e7c",
   "metadata": {},
   "outputs": [
    {
     "data": {
      "text/plain": [
       "'ABS '"
      ]
     },
     "execution_count": 18,
     "metadata": {},
     "output_type": "execute_result"
    }
   ],
   "source": [
    "a"
   ]
  },
  {
   "cell_type": "code",
   "execution_count": 19,
   "id": "0ca2f60a",
   "metadata": {},
   "outputs": [],
   "source": [
    "c = a.replace(\" \",\" Hasan\")"
   ]
  },
  {
   "cell_type": "code",
   "execution_count": 20,
   "id": "4a4a770d",
   "metadata": {},
   "outputs": [
    {
     "data": {
      "text/plain": [
       "'ABS Hasan'"
      ]
     },
     "execution_count": 20,
     "metadata": {},
     "output_type": "execute_result"
    }
   ],
   "source": [
    "c"
   ]
  },
  {
   "cell_type": "code",
   "execution_count": null,
   "id": "fb2fb14f",
   "metadata": {},
   "outputs": [],
   "source": []
  }
 ],
 "metadata": {
  "kernelspec": {
   "display_name": "Python 3",
   "language": "python",
   "name": "python3"
  },
  "language_info": {
   "codemirror_mode": {
    "name": "ipython",
    "version": 3
   },
   "file_extension": ".py",
   "mimetype": "text/x-python",
   "name": "python",
   "nbconvert_exporter": "python",
   "pygments_lexer": "ipython3",
   "version": "3.8.8"
  }
 },
 "nbformat": 4,
 "nbformat_minor": 5
}
