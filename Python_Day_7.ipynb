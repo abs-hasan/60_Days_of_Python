{
 "cells": [
  {
   "cell_type": "markdown",
   "id": "1ff81286",
   "metadata": {},
   "source": [
    "#### Excercise 1 : Paint Area Calculator"
   ]
  },
  {
   "cell_type": "code",
   "execution_count": 22,
   "id": "0dea7a4c",
   "metadata": {},
   "outputs": [],
   "source": [
    "import math\n",
    "\n",
    "def paint_calculator(height, width, cover):\n",
    "    area = height * width\n",
    "    count_cans = math.ceil(area / cover)\n",
    "    print(f\" You'll need {count_cans} cans of paint\")"
   ]
  },
  {
   "cell_type": "code",
   "execution_count": 23,
   "id": "1b4d2256",
   "metadata": {},
   "outputs": [
    {
     "name": "stdout",
     "output_type": "stream",
     "text": [
      "Height of Wall: 3\n",
      "Weight of Wall: 9\n"
     ]
    }
   ],
   "source": [
    "test_h = int(input(\"Height of Wall: \"))\n",
    "test_w = int(input(\"Weight of Wall: \"))\n",
    "coverage = 5"
   ]
  },
  {
   "cell_type": "code",
   "execution_count": 24,
   "id": "f5b806a7",
   "metadata": {},
   "outputs": [
    {
     "name": "stdout",
     "output_type": "stream",
     "text": [
      " You'll need 6 cans of paint\n"
     ]
    }
   ],
   "source": [
    "paint_calculator(height = test_h, width = test_w, cover = coverage)\n"
   ]
  },
  {
   "cell_type": "markdown",
   "id": "3682050e",
   "metadata": {},
   "source": [
    "#### Excercise 2 : Prime Numebr checker\n",
    "\n",
    "criteria:\n",
    "* only divisible by itslef and 1"
   ]
  },
  {
   "cell_type": "code",
   "execution_count": 64,
   "id": "fb591fb6",
   "metadata": {},
   "outputs": [
    {
     "name": "stdout",
     "output_type": "stream",
     "text": [
      "Check this number: 75\n",
      "It's not a prime number\n"
     ]
    }
   ],
   "source": [
    "def prime_checker(number):\n",
    "    is_prime = True\n",
    "    for value in range(2, number):\n",
    "        if a % value == 0:\n",
    "            is_prime = False\n",
    "    if is_prime:\n",
    "        print(\"It's a prime number\")\n",
    "    else:\n",
    "        print(\"It's not a prime number\") \n",
    "\n",
    "        \n",
    "n = int(input(\"Check this number: \"))\n",
    "prime_checker(number=n)"
   ]
  },
  {
   "cell_type": "code",
   "execution_count": 247,
   "id": "153ef811",
   "metadata": {},
   "outputs": [
    {
     "name": "stdout",
     "output_type": "stream",
     "text": [
      "Check this number: 3\n",
      "This is a prime Number\n"
     ]
    }
   ],
   "source": [
    "# Write your code below this line 👇\n",
    "def prime_checker(number):\n",
    "  display = []\n",
    "  for value in range(2,number):\n",
    "    if number % value == 0:\n",
    "      a = \"Not Prime\"\n",
    "      if a not in display:\n",
    "        display.append(a)\n",
    "    else:\n",
    "      b = \"Prime\"\n",
    "      if b not in display:\n",
    "        display.append(b)\n",
    "  #print(display)\n",
    "  if 'Not Prime' in display:\n",
    "    print(\"This is not a prime Number\")\n",
    "  else:\n",
    "    print(\"This is a prime Number\")\n",
    " \n",
    "#Write your code above this line 👆\n",
    "    \n",
    "#Do NOT change any of the code below👇\n",
    "n = int(input(\"Check this number: \"))\n",
    "prime_checker(number=n)"
   ]
  },
  {
   "cell_type": "markdown",
   "id": "b380091c",
   "metadata": {},
   "source": [
    " ### Day _ 7 : Final Project - Caesar Cipher"
   ]
  },
  {
   "cell_type": "code",
   "execution_count": 67,
   "id": "952755f3",
   "metadata": {},
   "outputs": [],
   "source": [
    "alphabet = ['a', 'b', 'c', 'd', 'e', 'f', 'g', 'h', 'i', 'j', 'k', 'l', 'm', 'n', \n",
    "            'o', 'p', 'q', 'r', 's', 't', 'u', 'v', 'w', 'x', 'y', 'z']"
   ]
  },
  {
   "cell_type": "code",
   "execution_count": 252,
   "id": "6867fb99",
   "metadata": {},
   "outputs": [
    {
     "name": "stdout",
     "output_type": "stream",
     "text": [
      "Type 'encode' to encrypt, type 'decode' to decrypt:\n",
      "encode\n",
      "Type your message:\n",
      "hello\n",
      "Type the shift number:\n",
      "5\n",
      "The encoded text is mjqqt\n",
      "Type 'yes' if you want to go again. Otherwise type 'no'.\n",
      "yes\n",
      "Type 'encode' to encrypt, type 'decode' to decrypt:\n",
      "decode\n",
      "Type your message:\n",
      "mjqqt\n",
      "Type the shift number:\n",
      "5\n",
      "The decoded text is hello\n",
      "Type 'yes' if you want to go again. Otherwise type 'no'.\n",
      "no\n",
      "Goodbye\n"
     ]
    }
   ],
   "source": [
    "def caesar(start_text, shift_amount, direction):\n",
    "    coded_text = []\n",
    "    \n",
    "    for letter in start_text:\n",
    "        if direction == \"decode\":\n",
    "            shifted_alphabet =  alphabet[-shift_amount:] +alphabet[:-shift_amount]\n",
    "        elif direction == \"encode\":\n",
    "            shifted_alphabet =  alphabet[shift_amount:] + alphabet[:shift_amount]     \n",
    "        \n",
    "        if letter in alphabet:\n",
    "            coded_text.append(shifted_alphabet[alphabet.index(letter)])\n",
    "        else:\n",
    "            coded_text.append(letter)\n",
    "    print(f\"The {direction}d text is {''.join(coded_text)}\")\n",
    "\n",
    "\n",
    "\n",
    "program_on = True\n",
    "\n",
    "while program_on:\n",
    "\n",
    "    direction = input(\"Type 'encode' to encrypt, type 'decode' to decrypt:\\n\")\n",
    "    text = input(\"Type your message:\\n\").lower()\n",
    "    shift = int(input(\"Type the shift number:\\n\"))    \n",
    "\n",
    "    shift = shift % len(alphabet) \n",
    "    caesar(text, shift, direction)\n",
    "\n",
    "\n",
    "    exit = input(\"Type 'yes' if you want to go again. Otherwise type 'no'.\\n\")\n",
    "\n",
    "    if exit == \"no\":\n",
    "        program_on = False\n",
    "        print(\"Goodbye\")"
   ]
  },
  {
   "cell_type": "code",
   "execution_count": 223,
   "id": "f35dee38",
   "metadata": {},
   "outputs": [],
   "source": [
    "#details\n",
    "#\n",
    "#def encrypt(plain_text, shift_amount):\n",
    "#    encoded_text = []\n",
    "#    shifted_alphabet = alphabet[shift_amount:] + alphabet[:shift_amount]\n",
    "#    for letter in plain_text:\n",
    "#        current_index = alphabet.index(letter)\n",
    "#        encoded_text.append(shifted_alphabet[current_index])\n",
    "#    print(f\"The encoded text is {''.join(encoded_text)}\")"
   ]
  },
  {
   "cell_type": "code",
   "execution_count": null,
   "id": "3a9beda5",
   "metadata": {},
   "outputs": [],
   "source": []
  }
 ],
 "metadata": {
  "kernelspec": {
   "display_name": "Python 3",
   "language": "python",
   "name": "python3"
  },
  "language_info": {
   "codemirror_mode": {
    "name": "ipython",
    "version": 3
   },
   "file_extension": ".py",
   "mimetype": "text/x-python",
   "name": "python",
   "nbconvert_exporter": "python",
   "pygments_lexer": "ipython3",
   "version": "3.8.8"
  }
 },
 "nbformat": 4,
 "nbformat_minor": 5
}
