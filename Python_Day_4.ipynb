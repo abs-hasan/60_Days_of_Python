{
 "cells": [
  {
   "cell_type": "markdown",
   "id": "9d6e133f",
   "metadata": {},
   "source": [
    "### "
   ]
  },
  {
   "cell_type": "code",
   "execution_count": 1,
   "id": "4032ec20",
   "metadata": {},
   "outputs": [],
   "source": [
    "import random"
   ]
  },
  {
   "cell_type": "code",
   "execution_count": 78,
   "id": "ff43ed42",
   "metadata": {},
   "outputs": [],
   "source": [
    "random_side = random.randint(0,1)"
   ]
  },
  {
   "cell_type": "code",
   "execution_count": 79,
   "id": "89cfc86a",
   "metadata": {},
   "outputs": [
    {
     "name": "stdout",
     "output_type": "stream",
     "text": [
      "Heads\n"
     ]
    }
   ],
   "source": [
    "if random_side == 1:\n",
    "    print(\"Heads\")\n",
    "else:\n",
    "    print(\"Tails\")"
   ]
  },
  {
   "cell_type": "markdown",
   "id": "125fdaea",
   "metadata": {},
   "source": [
    "#### Project - 1: Banker Roulette - Who will pay the bill ?\n",
    "\n",
    "Instructions\n",
    "You are going to write a program which will select a random name from a list of names. The person selected will have to pay for everybody's food bill.\n",
    "\n",
    "Important: You are not allowed to use the choice() function.\n",
    "\n",
    "Line 8 splits the string names_string into individual names and puts them inside a List called names. For this to work, you must enter all the names as name followed by comma then space. e.g. name, name, name\n",
    "\n",
    "Example Input\n",
    "\n",
    "Angela, Ben, Jenny, Michael, Chloe\n",
    "Note: notice that there is a space between the comma and the next name.\n",
    "\n",
    "Example Output\n",
    "Michael is going to buy the meal today!"
   ]
  },
  {
   "cell_type": "code",
   "execution_count": 53,
   "id": "f54f86d3",
   "metadata": {},
   "outputs": [
    {
     "name": "stdout",
     "output_type": "stream",
     "text": [
      "Give me everybody's names, seperated by a comma. ABS, JKL, MON, PQR\n",
      "\n",
      "Mon is going to buy the meal today!\n"
     ]
    }
   ],
   "source": [
    "name_input = input(\"Give me everybody's names, seperated by a comma. \").title()\n",
    "\n",
    "name = name_input.split(\", \")\n",
    "\n",
    "random_pick = random.randint(0,len(name)-1)\n",
    "\n",
    "output =f\"\\n{name[random_pick]} is going to buy the meal today!\"\n",
    "\n",
    "print(output)"
   ]
  },
  {
   "cell_type": "markdown",
   "id": "80272fac",
   "metadata": {},
   "source": [
    "### Project 2: Tresure Map\\\n",
    "\n",
    "Instructions\n",
    "You are going to write a program which will mark a spot with an X.\n",
    "\n",
    "In the starting code, you will find a variable called map.\n",
    "\n",
    "This map contains a nested list. When map is printed this is what the nested list looks like:\n",
    "\n",
    "['⬜️', '⬜️', '⬜️'],['⬜️', '⬜️', '⬜️'],['⬜️', '⬜️', '⬜️']\n",
    "In the starting code, we have used new lines (\\n) to format the three rows into a square, like this:\n",
    "\n",
    "['⬜️', '⬜️', '⬜️']\n",
    "['⬜️', '⬜️', '⬜️']\n",
    "['⬜️', '⬜️', '⬜️']\n",
    "\n",
    "This is to try and simulate the coordinates on a real map."
   ]
  },
  {
   "cell_type": "code",
   "execution_count": 39,
   "id": "34184e3e",
   "metadata": {},
   "outputs": [
    {
     "name": "stdout",
     "output_type": "stream",
     "text": [
      "['⬜️', '⬜️', '⬜️']\n",
      "['⬜️', '⬜️', '⬜️']\n",
      "['⬜️', '⬜️', '⬜️']\n",
      "Where do you want to put the treasure? 23\n",
      "['⬜️', '⬜️', '⬜️']\n",
      "['⬜️', '⬜️', '⬜️']\n",
      "['⬜️', 'x', '⬜️']\n"
     ]
    }
   ],
   "source": [
    "row1 = [\"⬜️\",\"⬜️\",\"⬜️\"]\n",
    "row2 = [\"⬜️\",\"⬜️\",\"⬜️\"]\n",
    "row3 = [\"⬜️\",\"⬜️\",\"⬜️\"]\n",
    "\n",
    "map = [row1,row2,row3]\n",
    "print(f\"{row1}\\n{row2}\\n{row3}\")\n",
    "\n",
    "position = input(\"Where do you want to put the treasure? \")\n",
    "num_1 = int(position[0])-1\n",
    "num_2 = int(position[1])-1\n",
    "\n",
    "map[num_2][num_1] = \"x\"\n",
    "print(f\"{row1}\\n{row2}\\n{row3}\")"
   ]
  },
  {
   "cell_type": "markdown",
   "id": "6ecc9b74",
   "metadata": {},
   "source": [
    "### Project 3: Rock Paper Sizzers \n",
    "\n",
    "ROCK : The rock is when you place your hand into the form of a simple fist.\n",
    "PAPER : The paper is when you place your hand in an outstretched position.\n",
    "SCISSORS : This is when you hold your fist with your index and middle finger pointing outwards in a V shape.\n",
    "    \n",
    "##### What are the rules of RPS?\n",
    "Although the game has a lot of complexity to it, the rules to play it are pretty simple.\n",
    "The game is played where players deliver hand signals that will represent the elements of the game; rock, paper and scissors. The outcome of the game is determined by 3 simple rules:\n",
    "\n",
    "* Rock wins against scissors.\n",
    "* Scissors win against paper.\n",
    "* Paper wins against rock."
   ]
  },
  {
   "cell_type": "code",
   "execution_count": 86,
   "id": "a9f9157d",
   "metadata": {},
   "outputs": [],
   "source": [
    "rock = '''\n",
    "    _______\n",
    "---'   ____)\n",
    "      (_____)\n",
    "      (_____)\n",
    "      (____)\n",
    "---.__(___)\n",
    "'''\n",
    "\n",
    "paper = '''\n",
    "    _______\n",
    "---'   ____)____\n",
    "          ______)\n",
    "          _______)\n",
    "         _______)\n",
    "---.__________)\n",
    "'''\n",
    "\n",
    "scissors = '''\n",
    "    _______\n",
    "---'   ____)____\n",
    "          ______)\n",
    "       __________)\n",
    "      (____)\n",
    "---.__(___)\n",
    "'''"
   ]
  },
  {
   "cell_type": "code",
   "execution_count": 178,
   "id": "d302d33f",
   "metadata": {},
   "outputs": [
    {
     "name": "stdout",
     "output_type": "stream",
     "text": [
      "What do you choose? Type 0 for Rock, 1 forPaper or 2 for Scissors. \n",
      "1\n",
      "You chose: Paper \n",
      "    _______\n",
      "---'   ____)____\n",
      "          ______)\n",
      "          _______)\n",
      "         _______)\n",
      "---.__________)\n",
      "\n",
      "Computer chose : Rock \n",
      "    _______\n",
      "---'   ____)\n",
      "      (_____)\n",
      "      (_____)\n",
      "      (____)\n",
      "---.__(___)\n",
      "\n",
      "You Won.\n"
     ]
    }
   ],
   "source": [
    "import random\n",
    "\n",
    "inp = input (\"What do you choose? Type 0 for Rock, 1 forPaper or 2 for Scissors. \\n\")\n",
    "\n",
    "if inp == '0' or inp == '1' or inp == '2':\n",
    "    inp = int(inp)\n",
    "\n",
    "    icon_list = [rock,paper,scissors]\n",
    "    element_list = [\"rock\",\"paper\",\"scissors\"]\n",
    "\n",
    "    if inp < 0 or inp > 2:\n",
    "        print(\"Out of Range. Please select only 0,1 or 2\")\n",
    "    else:\n",
    "        my_icon = icon_list[inp]\n",
    "        my_selection = element_list[inp]\n",
    "        print(f\"You chose: {my_selection.title()} {my_icon}\")\n",
    "\n",
    "        comp = random.randint(0,2)\n",
    "        comp_icon = icon_list[comp]\n",
    "        comp_list = element_list[comp]\n",
    "\n",
    "        print(f\"Computer chose : {comp_list.title()} {comp_icon}\")\n",
    "\n",
    "    if inp == 1 and comp == 0:\n",
    "        print(\"You Won.\")\n",
    "    elif inp == 0 and comp == 2:\n",
    "        print(\"You Won.\")\n",
    "    elif inp == 2 and comp == 1:\n",
    "        print(\"You Won.\")\n",
    "    elif inp == comp:\n",
    "        print(\"Draw.\")\n",
    "    else:\n",
    "        print(\"You Lost.\")\n",
    "else:\n",
    "    print(\"Out of Range. Please select only 0,1 or 2\")"
   ]
  }
 ],
 "metadata": {
  "kernelspec": {
   "display_name": "Python 3",
   "language": "python",
   "name": "python3"
  },
  "language_info": {
   "codemirror_mode": {
    "name": "ipython",
    "version": 3
   },
   "file_extension": ".py",
   "mimetype": "text/x-python",
   "name": "python",
   "nbconvert_exporter": "python",
   "pygments_lexer": "ipython3",
   "version": "3.8.8"
  }
 },
 "nbformat": 4,
 "nbformat_minor": 5
}
